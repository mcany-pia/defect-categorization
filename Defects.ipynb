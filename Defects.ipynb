{
  "cells": [
    {
      "cell_type": "markdown",
      "metadata": {
        "id": "view-in-github",
        "colab_type": "text"
      },
      "source": [
        "<a href=\"https://colab.research.google.com/github/mcany-pia/defect-categorization/blob/main/Defects.ipynb\" target=\"_parent\"><img src=\"https://colab.research.google.com/assets/colab-badge.svg\" alt=\"Open In Colab\"/></a>"
      ]
    },
    {
      "cell_type": "code",
      "source": [
        "!pip install -U scikit-learn\n",
        "!pip install pandas\n",
        "!pip install numpy\n",
        "!pip install matplotlib"
      ],
      "metadata": {
        "id": "k8zX8ugi70_S"
      },
      "execution_count": null,
      "outputs": []
    },
    {
      "cell_type": "code",
      "source": [
        "from sklearn.feature_extraction.text import TfidfVectorizer\n",
        "from sklearn.feature_selection import SelectKBest\n",
        "from sklearn.feature_selection import f_classif\n",
        "from sklearn.preprocessing import LabelEncoder\n",
        "from sklearn.neural_network import MLPClassifier\n",
        "from sklearn.metrics import accuracy_score\n",
        "from sklearn.metrics import ConfusionMatrixDisplay\n",
        "from sklearn.metrics import confusion_matrix\n",
        "from sklearn.metrics import classification_report\n",
        "from sklearn.model_selection import train_test_split\n",
        "from sklearn.model_selection import GridSearchCV\n",
        "from sklearn.svm import SVC\n",
        "from sklearn.ensemble import GradientBoostingClassifier\n",
        "from sklearn.model_selection import learning_curve\n",
        "from sklearn.model_selection import cross_val_score\n",
        "import matplotlib.pyplot as plt\n",
        "import numpy as np\n",
        "import pandas as pd"
      ],
      "metadata": {
        "id": "KMhpcq_H9ADL"
      },
      "execution_count": 176,
      "outputs": []
    },
    {
      "cell_type": "markdown",
      "metadata": {
        "id": "PWG4uLsFsCOa"
      },
      "source": [
        "Initially used numpy for reading csv but it gave error at line 38 because there was a comma. So i guess it is not for reading text. therefore used pandas."
      ]
    },
    {
      "cell_type": "code",
      "execution_count": 194,
      "metadata": {
        "id": "O78Kybhgr0oY",
        "colab": {
          "base_uri": "https://localhost:8080/"
        },
        "outputId": "30a4cde5-cef5-46be-9ec7-a1ef2ce5a3de"
      },
      "outputs": [
        {
          "output_type": "stream",
          "name": "stdout",
          "text": [
            "<bound method NDFrame.head of                                                Summary Ambiguous Description  \\\n",
            "665          RC-UI: Clone error on Specifications page                    no   \n",
            "888  PINT: Wrong error information is returned in c...                   yes   \n",
            "753  PC - Patch results with null pointer exception...                    no   \n",
            "780  PC UI - Unable to add a service/resource speci...                    no   \n",
            "419  DPRMS-2.15.1 Wrong error information and statu...                    no   \n",
            "..                                                 ...                   ...   \n",
            "62           DCMJ - Workflow execution not found Error                    no   \n",
            "18        Faveo - Complaint TicketCreate Trigger Issue                   yes   \n",
            "901                   PAM - nullPointerException Error                    no   \n",
            "890  DRCMS - Missing fields in physicalResourceSpec...                    no   \n",
            "677               10 - Task is not shown in BackOffice                    no   \n",
            "\n",
            "                      Classification            Classification 2  \\\n",
            "665                  Usability Error                    UI Error   \n",
            "888             Invalid Format Error            Validation Error   \n",
            "753              Missing Field Error               Control Error   \n",
            "780              Missing Field Error  Missing Information/Fields   \n",
            "419                   Error Handling              Error Handling   \n",
            "..                               ...                         ...   \n",
            "62                  Functional Error                  Flow Error   \n",
            "18                        Flow Error                  Flow Error   \n",
            "901  Processing-Error Handling Error            Validation Error   \n",
            "890      Data Field-Validation Error  Missing Information/Fields   \n",
            "677                    Display Issue                    UI Error   \n",
            "\n",
            "    Final Classification   Issue key  Issue id Issue Type     Status  \\\n",
            "665             UI Error   PRND-8812     18292        Bug     Closed   \n",
            "888     Validation Error   PRND-8774     18257        Bug       Open   \n",
            "753     Validation Error  PRND-11377     20795        Bug     Closed   \n",
            "780     Validation Error  PRND-10954     20386        Bug     Closed   \n",
            "419       Security Error  PRND-10463     19916        Bug       Open   \n",
            "..                   ...         ...       ...        ...        ...   \n",
            "62           Build Error   PRND-8136     14047        Bug   Rejected   \n",
            "18           Build Error  PRND-12192     21583        Bug  Cancelled   \n",
            "901     Validation Error   PRND-8473     17960        Bug   Rejected   \n",
            "890     Validation Error   PRND-8772     18255        Bug  Cancelled   \n",
            "677             UI Error   PRND-8228     12426        Bug   Rejected   \n",
            "\n",
            "    Project key  ... Comment.8 Comment.9 Comment.10 Comment.11  Comment.12  \\\n",
            "665        PRND  ...       NaN       NaN        NaN        NaN         NaN   \n",
            "888        PRND  ...       NaN       NaN        NaN        NaN         NaN   \n",
            "753        PRND  ...       NaN       NaN        NaN        NaN         NaN   \n",
            "780        PRND  ...       NaN       NaN        NaN        NaN         NaN   \n",
            "419        PRND  ...       NaN       NaN        NaN        NaN         NaN   \n",
            "..          ...  ...       ...       ...        ...        ...         ...   \n",
            "62         PRND  ...       NaN       NaN        NaN        NaN         NaN   \n",
            "18         PRND  ...       NaN       NaN        NaN        NaN         NaN   \n",
            "901        PRND  ...       NaN       NaN        NaN        NaN         NaN   \n",
            "890        PRND  ...       NaN       NaN        NaN        NaN         NaN   \n",
            "677        PRND  ...       NaN       NaN        NaN        NaN         NaN   \n",
            "\n",
            "     Comment.13 Comment.14 Parent Parent summary Status Category  \n",
            "665         NaN        NaN    NaN            NaN            Done  \n",
            "888         NaN        NaN    NaN            NaN            Done  \n",
            "753         NaN        NaN    NaN            NaN            Done  \n",
            "780         NaN        NaN    NaN            NaN            Done  \n",
            "419         NaN        NaN    NaN            NaN            Done  \n",
            "..          ...        ...    ...            ...             ...  \n",
            "62          NaN        NaN    NaN            NaN           To Do  \n",
            "18          NaN        NaN    NaN            NaN            Done  \n",
            "901         NaN        NaN    NaN            NaN            Done  \n",
            "890         NaN        NaN    NaN            NaN            Done  \n",
            "677         NaN        NaN    NaN            NaN            Done  \n",
            "\n",
            "[192 rows x 308 columns]>\n",
            "<bound method NDFrame.head of                                                Summary Ambiguous Description  \\\n",
            "711         PC-UI: Error in Categories clone operation                    no   \n",
            "783  PC It is not possible to patch a bundled produ...                    no   \n",
            "258                 DPRMS: logs does not apply masking                    no   \n",
            "22   PC-UI: Error when trying to add Channels in Of...                    no   \n",
            "444  Post with invalid access token is giving 401 s...                    no   \n",
            "..                                                 ...                   ...   \n",
            "534  CM-UI: Shift of Search Engaged Party field sea...                    no   \n",
            "584  SC UI - Specification list does not show lifec...                    no   \n",
            "493                  DGAMS: 500 error on GET operation                    no   \n",
            "527  RC-UI: Version information not showing and shi...                    no   \n",
            "168  RC-UI: Not all records come in sorting by Reso...                    no   \n",
            "\n",
            "                      Classification     Classification 2  \\\n",
            "711                 Validation Error     Validation Error   \n",
            "783              Invalid Request URI     Validation Error   \n",
            "258              Data Handling Error        Logging Error   \n",
            "22                         URL Error         Server Error   \n",
            "444      Data Input-Validation Error       Error Handling   \n",
            "..                               ...                  ...   \n",
            "534                     Domain Shift             UI Error   \n",
            "584        Missing Information Error             UI Error   \n",
            "493  Processing-Error Handling Error     Connection Error   \n",
            "527                         UI Error             UI Error   \n",
            "168              Data Handling Error  Data Handling Error   \n",
            "\n",
            "      Final Classification   Issue key  Issue id Issue Type  \\\n",
            "711       Validation Error  PRND-11586     20993        Bug   \n",
            "783       Validation Error  PRND-10917     20351        Bug   \n",
            "258          Logging Error  PRND-10223     19682        Bug   \n",
            "22             Build Error  PRND-11570     20977        Bug   \n",
            "444         Security Error   PRND-8824     18304        Bug   \n",
            "..                     ...         ...       ...        ...   \n",
            "534               UI Error  PRND-11982     21376        Bug   \n",
            "584               UI Error  PRND-10871     20306        Bug   \n",
            "493           System Error   PRND-8680     18167        Bug   \n",
            "527               UI Error  PRND-12267     21657        Bug   \n",
            "168  Data Management Error   PRND-9740     19206        Bug   \n",
            "\n",
            "                 Status Project key  ... Comment.8 Comment.9 Comment.10  \\\n",
            "711              Closed        PRND  ...       NaN       NaN        NaN   \n",
            "783              Closed        PRND  ...       NaN       NaN        NaN   \n",
            "258                Open        PRND  ...       NaN       NaN        NaN   \n",
            "22               Closed        PRND  ...       NaN       NaN        NaN   \n",
            "444           Cancelled        PRND  ...       NaN       NaN        NaN   \n",
            "..                  ...         ...  ...       ...       ...        ...   \n",
            "534  In Dev Defect Pool        PRND  ...       NaN       NaN        NaN   \n",
            "584           Cancelled        PRND  ...       NaN       NaN        NaN   \n",
            "493           Cancelled        PRND  ...       NaN       NaN        NaN   \n",
            "527                Open        PRND  ...       NaN       NaN        NaN   \n",
            "168           Cancelled        PRND  ...       NaN       NaN        NaN   \n",
            "\n",
            "    Comment.11  Comment.12  Comment.13 Comment.14 Parent Parent summary  \\\n",
            "711        NaN         NaN         NaN        NaN    NaN            NaN   \n",
            "783        NaN         NaN         NaN        NaN    NaN            NaN   \n",
            "258        NaN         NaN         NaN        NaN    NaN            NaN   \n",
            "22         NaN         NaN         NaN        NaN    NaN            NaN   \n",
            "444        NaN         NaN         NaN        NaN    NaN            NaN   \n",
            "..         ...         ...         ...        ...    ...            ...   \n",
            "534        NaN         NaN         NaN        NaN    NaN            NaN   \n",
            "584        NaN         NaN         NaN        NaN    NaN            NaN   \n",
            "493        NaN         NaN         NaN        NaN    NaN            NaN   \n",
            "527        NaN         NaN         NaN        NaN    NaN            NaN   \n",
            "168        NaN         NaN         NaN        NaN    NaN            NaN   \n",
            "\n",
            "    Status Category  \n",
            "711            Done  \n",
            "783           To Do  \n",
            "258     In Progress  \n",
            "22            To Do  \n",
            "444            Done  \n",
            "..              ...  \n",
            "534     In Progress  \n",
            "584            Done  \n",
            "493            Done  \n",
            "527            Done  \n",
            "168           To Do  \n",
            "\n",
            "[766 rows x 308 columns]>\n"
          ]
        }
      ],
      "source": [
        "# train data\n",
        "vdf = pd.read_csv(\"defects.csv\")\n",
        "# test data\n",
        "#tdf = pd.read_csv('CompleteDataset.csv', sep=\"|\")\n",
        "#tdf = tdf.sample(frac = 1, random_state=2).reset_index()\n",
        "#print(tdf.head)\n",
        "#Shuffling and splitting the dataset into 70% training and 30% testing\n",
        "#tdf = tdf.groupby('super').apply(lambda x: x.sample(n=250)).reset_index(drop=True)\n",
        "\n",
        "tdf, vdf = train_test_split(vdf, test_size=0.2, random_state=2, shuffle=True)\n",
        "\n",
        "#tdf = vdf.iloc[:700]\n",
        "#vdf = vdf.iloc[700:]\n",
        "\n",
        "\n",
        "\n",
        "print(vdf.head)\n",
        "print(tdf.head)\n",
        "\n",
        "# Vectorization parameters\n",
        "# Range (inclusive) of n-gram sizes for tokenizing text.\n",
        "NGRAM_RANGE = (1, 2)\n",
        "\n",
        "# Limit on the number of features. We use the top 20K features.\n",
        "TOP_K = 20000\n",
        "\n",
        "# Whether text should be split into word or character n-grams.\n",
        "# One of 'word', 'char'.\n",
        "TOKEN_MODE = 'word'\n",
        "\n",
        "# Minimum document/corpus frequency below which a token will be discarded.\n",
        "MIN_DOCUMENT_FREQUENCY = 2\n"
      ]
    },
    {
      "cell_type": "markdown",
      "metadata": {
        "id": "GfaCPT0NsQr2"
      },
      "source": [
        "Get number of samples and words per sample to compare. Then using https://developers.google.com/machine-learning/guides/text-classification/step-2-5 decide to the model."
      ]
    },
    {
      "cell_type": "code",
      "execution_count": null,
      "metadata": {
        "colab": {
          "base_uri": "https://localhost:8080/"
        },
        "id": "XKmT7aQfsPsv",
        "outputId": "44454e15-d875-41fa-e816-a0583559130f"
      },
      "outputs": [
        {
          "output_type": "execute_result",
          "data": {
            "text/plain": [
              "10.276476471207495"
            ]
          },
          "metadata": {},
          "execution_count": 81
        }
      ],
      "source": [
        "rows = len(df)\n",
        "total_words = df['summary'].apply(lambda x: len(str(x).split())).sum()\n",
        "w_per_s = total_words / rows\n",
        "w_per_s"
      ]
    },
    {
      "cell_type": "markdown",
      "metadata": {
        "id": "NcUd7e6zNtGm"
      },
      "source": [
        "Since it is less than 1500 we are going with MLP."
      ]
    },
    {
      "cell_type": "code",
      "execution_count": null,
      "metadata": {
        "id": "b38hVaoKNupk"
      },
      "outputs": [],
      "source": [
        "def ngram_vectorize(train_texts, train_labels, val_texts):\n",
        "    \"\"\"Vectorizes texts as n-gram vectors.\n",
        "\n",
        "    1 text = 1 tf-idf vector the length of vocabulary of unigrams + bigrams.\n",
        "\n",
        "    # Arguments\n",
        "        train_texts: list, training text strings.\n",
        "        train_labels: np.ndarray, training labels.\n",
        "        val_texts: list, validation text strings.\n",
        "\n",
        "    # Returns\n",
        "        x_train, x_val: vectorized training and validation texts\n",
        "    \"\"\"\n",
        "    # Create keyword arguments to pass to the 'tf-idf' vectorizer.\n",
        "    kwargs = {\n",
        "            'ngram_range': NGRAM_RANGE,  # Use 1-grams + 2-grams.\n",
        "            'dtype': 'int32',\n",
        "            'strip_accents': 'unicode',\n",
        "            'decode_error': 'replace',\n",
        "            'analyzer': TOKEN_MODE,  # Split text into word tokens.\n",
        "            'min_df': MIN_DOCUMENT_FREQUENCY,\n",
        "    }\n",
        "    vectorizer = TfidfVectorizer(**kwargs)\n",
        "\n",
        "    # Learn vocabulary from training texts and vectorize training texts.\n",
        "    x_train = vectorizer.fit_transform(train_texts)\n",
        "\n",
        "    # Vectorize validation texts.\n",
        "    x_val = vectorizer.transform(val_texts)\n",
        "\n",
        "    # Select top 'k' of the vectorized features.\n",
        "    selector = SelectKBest(f_classif, k=min(TOP_K, x_train.shape[1]))\n",
        "    selector.fit(x_train, train_labels)\n",
        "    x_train = selector.transform(x_train).astype('float32')\n",
        "    x_val = selector.transform(x_val).astype('float32')\n",
        "    return x_train, x_val"
      ]
    },
    {
      "cell_type": "markdown",
      "metadata": {
        "id": "C3J-N-tLN0E_"
      },
      "source": [
        "Berfore we fed model with data. We should tokenize. Then train with it."
      ]
    },
    {
      "cell_type": "code",
      "source": [
        "# Define train_texts, train_labels, val_texts, and val_labels earlier\n",
        "train_texts = tdf['Summary']\n",
        "train_labels = tdf['Final Classification']\n",
        "val_texts = vdf['Summary']\n",
        "val_labels = vdf['Final Classification']\n",
        "# Initialize a label encoder\n",
        "label_encoder = LabelEncoder()\n",
        "\n",
        "# Vectorize the texts using the function\n",
        "x_train, x_val = ngram_vectorize(train_texts, train_labels, val_texts)\n",
        "# Fit the encoder on the training labels and transform both train and validation labels\n",
        "y_train_encoded = label_encoder.fit_transform(train_labels)\n",
        "y_val_encoded = label_encoder.transform(val_labels)"
      ],
      "metadata": {
        "colab": {
          "base_uri": "https://localhost:8080/"
        },
        "id": "ou042Ryf4PD1",
        "outputId": "147e05ec-f91d-4cc3-d98b-9f35e88885e1"
      },
      "execution_count": 196,
      "outputs": [
        {
          "output_type": "stream",
          "name": "stderr",
          "text": [
            "/usr/local/lib/python3.10/dist-packages/sklearn/feature_extraction/text.py:2072: UserWarning: Only (<class 'numpy.float64'>, <class 'numpy.float32'>, <class 'numpy.float16'>) 'dtype' should be used. int32 'dtype' will be converted to np.float64.\n",
            "  warnings.warn(\n"
          ]
        }
      ]
    },
    {
      "cell_type": "markdown",
      "source": [
        "MLP:"
      ],
      "metadata": {
        "id": "xPrPDX1C4Qvq"
      }
    },
    {
      "cell_type": "code",
      "execution_count": 197,
      "metadata": {
        "id": "ThszbVS3vc8l",
        "colab": {
          "base_uri": "https://localhost:8080/",
          "height": 1000
        },
        "outputId": "a02fb420-bc33-4102-f1b3-00a66b36f66b"
      },
      "outputs": [
        {
          "output_type": "stream",
          "name": "stderr",
          "text": [
            "/usr/local/lib/python3.10/dist-packages/sklearn/neural_network/_multilayer_perceptron.py:686: ConvergenceWarning: Stochastic Optimizer: Maximum iterations (100) reached and the optimization hasn't converged yet.\n",
            "  warnings.warn(\n"
          ]
        },
        {
          "output_type": "stream",
          "name": "stdout",
          "text": [
            "Training Score (Accuracy): 0.9869451697127938\n",
            "0.53125\n"
          ]
        },
        {
          "output_type": "display_data",
          "data": {
            "text/plain": [
              "<Figure size 640x480 with 2 Axes>"
            ],
            "image/png": "[encoded data removed]"
          },
          "metadata": {}
        },
        {
          "output_type": "stream",
          "name": "stdout",
          "text": [
            "              precision    recall  f1-score   support\n",
            "\n",
            "           0       0.00      0.00      0.00         1\n",
            "           1       0.33      0.25      0.29         8\n",
            "           2       0.00      0.00      0.00         2\n",
            "           3       0.47      0.56      0.51        32\n",
            "           4       0.00      0.00      0.00         1\n",
            "           5       0.00      0.00      0.00         2\n",
            "           6       1.00      1.00      1.00         1\n",
            "           7       1.00      0.75      0.86         4\n",
            "           8       0.75      0.46      0.57        13\n",
            "           9       0.43      0.27      0.33        11\n",
            "          10       0.00      0.00      0.00         1\n",
            "          11       0.53      0.50      0.51        18\n",
            "          12       0.00      0.00      0.00         1\n",
            "          13       0.17      1.00      0.29         1\n",
            "          14       1.00      0.50      0.67         2\n",
            "          15       0.74      0.74      0.74        34\n",
            "          16       0.51      0.61      0.55        54\n",
            "          17       0.00      0.00      0.00         6\n",
            "\n",
            "    accuracy                           0.53       192\n",
            "   macro avg       0.38      0.37      0.35       192\n",
            "weighted avg       0.53      0.53      0.52       192\n",
            "\n"
          ]
        },
        {
          "output_type": "stream",
          "name": "stderr",
          "text": [
            "/usr/local/lib/python3.10/dist-packages/sklearn/metrics/_classification.py:1344: UndefinedMetricWarning: Precision and F-score are ill-defined and being set to 0.0 in labels with no predicted samples. Use `zero_division` parameter to control this behavior.\n",
            "  _warn_prf(average, modifier, msg_start, len(result))\n",
            "/usr/local/lib/python3.10/dist-packages/sklearn/metrics/_classification.py:1344: UndefinedMetricWarning: Precision and F-score are ill-defined and being set to 0.0 in labels with no predicted samples. Use `zero_division` parameter to control this behavior.\n",
            "  _warn_prf(average, modifier, msg_start, len(result))\n",
            "/usr/local/lib/python3.10/dist-packages/sklearn/metrics/_classification.py:1344: UndefinedMetricWarning: Precision and F-score are ill-defined and being set to 0.0 in labels with no predicted samples. Use `zero_division` parameter to control this behavior.\n",
            "  _warn_prf(average, modifier, msg_start, len(result))\n"
          ]
        }
      ],
      "source": [
        "\n",
        "# Initialize the MLP classifier\n",
        "mlp_clf = MLPClassifier(hidden_layer_sizes=(50), max_iter=100, activation='relu', solver='adam', random_state=42)\n",
        "\n",
        "# Train the model\n",
        "mlp_clf.fit(x_train, y_train_encoded)\n",
        "\n",
        "# Predict on the validation set\n",
        "y_val_pred_mlp = mlp_clf.predict(x_val)\n",
        "\n",
        "# Calculate the accuracy\n",
        "training_score = mlp_clf.score(x_train, y_train_encoded)\n",
        "print(\"Training Score (Accuracy):\", training_score)\n",
        "\n",
        "\n",
        "accuracy_mlp = accuracy_score(y_val_encoded, y_val_pred_mlp, normalize=True)\n",
        "cm = confusion_matrix(y_val_encoded, y_val_pred_mlp)\n",
        "fig = ConfusionMatrixDisplay(confusion_matrix=cm, display_labels=unique_classes)\n",
        "fig.plot()\n",
        "plt.show()\n",
        "\n",
        "print(classification_report(y_val_encoded, y_val_pred_mlp))"
      ]
    },
    {
      "cell_type": "markdown",
      "source": [],
      "metadata": {
        "id": "4aewcn9-A_UE"
      }
    },
    {
      "cell_type": "markdown",
      "source": [
        "SVM:"
      ],
      "metadata": {
        "id": "iE_0saEL4S8y"
      }
    },
    {
      "cell_type": "code",
      "source": [
        "# Training the SVM classifier\n",
        "svm = SVC(kernel='linear', random_state=42)\n",
        "svm.fit(x_train, y_train_encoded)\n",
        "y_val_pred_svm = svm.predict(x_val)\n",
        "\n",
        "cross_val_accuracies = cross_val_score(svm, x_train, y_train_encoded, cv=5, scoring='accuracy')\n",
        "\n",
        "# Compute mean and standard deviation of cross-validation accuracies\n",
        "mean_cross_val_accuracy = cross_val_accuracies.mean()\n",
        "std_cross_val_accuracy = cross_val_accuracies.std()\n",
        "print(\"Cross-Validation Accuracies:\", cross_val_accuracies)\n",
        "print(mean_cross_val_accuracy)\n",
        "print(std_cross_val_accuracy)\n",
        "\n",
        "\n",
        "# Calculating accuracy and classification report for the SVM model\n",
        "classification_rep_svm_test_new = classification_report(y_val_encoded, y_val_pred_svm, target_names=label_encoder.classes_)\n",
        "print(classification_rep_svm_test_new)"
      ],
      "metadata": {
        "colab": {
          "base_uri": "https://localhost:8080/"
        },
        "id": "v1t1VJ96vQ4g",
        "outputId": "6e345449-373a-4bcc-f682-d8b905ea2328"
      },
      "execution_count": 198,
      "outputs": [
        {
          "output_type": "stream",
          "name": "stderr",
          "text": [
            "/usr/local/lib/python3.10/dist-packages/sklearn/model_selection/_split.py:700: UserWarning: The least populated class in y has only 2 members, which is less than n_splits=5.\n",
            "  warnings.warn(\n"
          ]
        },
        {
          "output_type": "stream",
          "name": "stdout",
          "text": [
            "Cross-Validation Accuracies: [0.45454545 0.50980392 0.5751634  0.48366013 0.52287582]\n",
            "0.5092097445038621\n",
            "0.04044246888053581\n",
            "                       precision    recall  f1-score   support\n",
            "\n",
            "    Algorithmic Error       0.00      0.00      0.00         1\n",
            "          Build Error       0.40      0.25      0.31         8\n",
            "  Communication Error       0.00      0.00      0.00         2\n",
            "Data Management Error       0.40      0.62      0.49        32\n",
            "         Design Error       0.00      0.00      0.00         1\n",
            "    Integration Error       0.00      0.00      0.00         2\n",
            "        Logging Error       1.00      1.00      1.00         1\n",
            "      Migration Error       1.00      0.75      0.86         4\n",
            "       Patching Error       0.67      0.15      0.25        13\n",
            "    Performance Error       0.40      0.18      0.25        11\n",
            "       Resource Error       0.00      0.00      0.00         1\n",
            "       Security Error       0.75      0.50      0.60        18\n",
            "  Specification Error       0.00      0.00      0.00         1\n",
            "         System Error       0.00      0.00      0.00         1\n",
            "        Testing Error       0.00      0.00      0.00         2\n",
            "             UI Error       0.72      0.82      0.77        34\n",
            "     Validation Error       0.46      0.61      0.52        54\n",
            "     Verfigback Error       0.00      0.00      0.00         6\n",
            "\n",
            "             accuracy                           0.52       192\n",
            "            macro avg       0.32      0.27      0.28       192\n",
            "         weighted avg       0.50      0.52      0.49       192\n",
            "\n"
          ]
        },
        {
          "output_type": "stream",
          "name": "stderr",
          "text": [
            "/usr/local/lib/python3.10/dist-packages/sklearn/metrics/_classification.py:1344: UndefinedMetricWarning: Precision and F-score are ill-defined and being set to 0.0 in labels with no predicted samples. Use `zero_division` parameter to control this behavior.\n",
            "  _warn_prf(average, modifier, msg_start, len(result))\n",
            "/usr/local/lib/python3.10/dist-packages/sklearn/metrics/_classification.py:1344: UndefinedMetricWarning: Precision and F-score are ill-defined and being set to 0.0 in labels with no predicted samples. Use `zero_division` parameter to control this behavior.\n",
            "  _warn_prf(average, modifier, msg_start, len(result))\n",
            "/usr/local/lib/python3.10/dist-packages/sklearn/metrics/_classification.py:1344: UndefinedMetricWarning: Precision and F-score are ill-defined and being set to 0.0 in labels with no predicted samples. Use `zero_division` parameter to control this behavior.\n",
            "  _warn_prf(average, modifier, msg_start, len(result))\n"
          ]
        }
      ]
    },
    {
      "cell_type": "markdown",
      "source": [
        "GBDT:"
      ],
      "metadata": {
        "id": "kbSxXuXK4UQa"
      }
    },
    {
      "cell_type": "code",
      "source": [
        "# Initializing and training the GBDT classifier\n",
        "gbdt_classifier = GradientBoostingClassifier(random_state=42)\n",
        "gbdt_classifier.fit(x_train, y_train_encoded)\n",
        "\n",
        "# Predicting on the test set\n",
        "y_test_pred_gbdt = gbdt_classifier.predict(x_val)\n",
        "\n",
        "# Calculating accuracy and classification report for the GBDT model\n",
        "classification_rep_gbdt_test = classification_report(y_val_encoded, y_test_pred_gbdt)\n",
        "print(classification_rep_gbdt_test)"
      ],
      "metadata": {
        "colab": {
          "base_uri": "https://localhost:8080/"
        },
        "id": "146i3NVT4Vua",
        "outputId": "cafaa681-8d09-4c07-bf29-d0ffebee866b"
      },
      "execution_count": null,
      "outputs": [
        {
          "output_type": "stream",
          "name": "stdout",
          "text": [
            "\n",
            "0.33716075156576203\n",
            "              precision    recall  f1-score   support\n",
            "\n",
            "           0       0.00      0.00      0.00        15\n",
            "           1       0.44      0.31      0.36        55\n",
            "           2       0.00      0.00      0.00         6\n",
            "           3       0.69      0.12      0.21       160\n",
            "           4       0.00      0.00      0.00         0\n",
            "           5       0.00      0.00      0.00         3\n",
            "           6       0.07      0.24      0.11        17\n",
            "           7       1.00      0.27      0.43        11\n",
            "           8       0.88      0.93      0.90        15\n",
            "           9       0.37      0.86      0.52        44\n",
            "          10       0.22      0.58      0.32        53\n",
            "          11       0.08      0.83      0.15         6\n",
            "          12       0.39      0.49      0.44        79\n",
            "          13       0.05      0.25      0.09         8\n",
            "          14       0.33      0.15      0.21        39\n",
            "          15       0.78      1.00      0.88         7\n",
            "          16       0.58      0.58      0.58       173\n",
            "          17       0.49      0.11      0.18       238\n",
            "          18       0.19      0.34      0.24        29\n",
            "\n",
            "    accuracy                           0.34       958\n",
            "   macro avg       0.35      0.37      0.30       958\n",
            "weighted avg       0.48      0.34      0.33       958\n",
            "\n"
          ]
        },
        {
          "output_type": "stream",
          "name": "stderr",
          "text": [
            "/usr/local/lib/python3.10/dist-packages/sklearn/metrics/_classification.py:1344: UndefinedMetricWarning: Precision and F-score are ill-defined and being set to 0.0 in labels with no predicted samples. Use `zero_division` parameter to control this behavior.\n",
            "  _warn_prf(average, modifier, msg_start, len(result))\n",
            "/usr/local/lib/python3.10/dist-packages/sklearn/metrics/_classification.py:1344: UndefinedMetricWarning: Recall and F-score are ill-defined and being set to 0.0 in labels with no true samples. Use `zero_division` parameter to control this behavior.\n",
            "  _warn_prf(average, modifier, msg_start, len(result))\n",
            "/usr/local/lib/python3.10/dist-packages/sklearn/metrics/_classification.py:1344: UndefinedMetricWarning: Precision and F-score are ill-defined and being set to 0.0 in labels with no predicted samples. Use `zero_division` parameter to control this behavior.\n",
            "  _warn_prf(average, modifier, msg_start, len(result))\n",
            "/usr/local/lib/python3.10/dist-packages/sklearn/metrics/_classification.py:1344: UndefinedMetricWarning: Recall and F-score are ill-defined and being set to 0.0 in labels with no true samples. Use `zero_division` parameter to control this behavior.\n",
            "  _warn_prf(average, modifier, msg_start, len(result))\n",
            "/usr/local/lib/python3.10/dist-packages/sklearn/metrics/_classification.py:1344: UndefinedMetricWarning: Precision and F-score are ill-defined and being set to 0.0 in labels with no predicted samples. Use `zero_division` parameter to control this behavior.\n",
            "  _warn_prf(average, modifier, msg_start, len(result))\n",
            "/usr/local/lib/python3.10/dist-packages/sklearn/metrics/_classification.py:1344: UndefinedMetricWarning: Recall and F-score are ill-defined and being set to 0.0 in labels with no true samples. Use `zero_division` parameter to control this behavior.\n",
            "  _warn_prf(average, modifier, msg_start, len(result))\n"
          ]
        }
      ]
    }
  ],
  "metadata": {
    "colab": {
      "provenance": [],
      "mount_file_id": "1UWSvx_NE3wJDYrvBZgQXj37td19FmcFI",
      "authorship_tag": "ABX9TyOi+ZLWQkCL0BwfDKtA9bcx",
      "include_colab_link": true
    },
    "kernelspec": {
      "display_name": "Python 3",
      "name": "python3"
    },
    "language_info": {
      "name": "python"
    }
  },
  "nbformat": 4,
  "nbformat_minor": 0
}