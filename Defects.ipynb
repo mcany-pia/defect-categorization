{
  "cells": [
    {
      "cell_type": "markdown",
      "metadata": {
        "id": "view-in-github",
        "colab_type": "text"
      },
      "source": [
        "<a href=\"https://colab.research.google.com/github/mcany-pia/defect-categorization/blob/main/Defects.ipynb\" target=\"_parent\"><img src=\"https://colab.research.google.com/assets/colab-badge.svg\" alt=\"Open In Colab\"/></a>"
      ]
    },
    {
      "cell_type": "code",
      "source": [
        "!pip install -U scikit-learn\n",
        "!pip install pandas\n",
        "!pip install numpy\n",
        "!pip install matplotlib"
      ],
      "metadata": {
        "id": "k8zX8ugi70_S",
        "colab": {
          "base_uri": "https://localhost:8080/"
        },
        "outputId": "692a75a5-2440-483f-9e71-e8a5e8cc6e09"
      },
      "execution_count": null,
      "outputs": [
        {
          "output_type": "stream",
          "name": "stdout",
          "text": [
            "Requirement already satisfied: scikit-learn in /usr/local/lib/python3.10/dist-packages (1.2.2)\n",
            "Collecting scikit-learn\n",
            "  Downloading scikit_learn-1.3.0-cp310-cp310-manylinux_2_17_x86_64.manylinux2014_x86_64.whl (10.8 MB)\n",
            "\u001b[2K     \u001b[90m━━━━━━━━━━━━━━━━━━━━━━━━━━━━━━━━━━━━━━━━\u001b[0m \u001b[32m10.8/10.8 MB\u001b[0m \u001b[31m28.9 MB/s\u001b[0m eta \u001b[36m0:00:00\u001b[0m\n",
            "\u001b[?25hRequirement already satisfied: numpy>=1.17.3 in /usr/local/lib/python3.10/dist-packages (from scikit-learn) (1.23.5)\n",
            "Requirement already satisfied: scipy>=1.5.0 in /usr/local/lib/python3.10/dist-packages (from scikit-learn) (1.10.1)\n",
            "Requirement already satisfied: joblib>=1.1.1 in /usr/local/lib/python3.10/dist-packages (from scikit-learn) (1.3.2)\n",
            "Requirement already satisfied: threadpoolctl>=2.0.0 in /usr/local/lib/python3.10/dist-packages (from scikit-learn) (3.2.0)\n",
            "Installing collected packages: scikit-learn\n",
            "  Attempting uninstall: scikit-learn\n",
            "    Found existing installation: scikit-learn 1.2.2\n",
            "    Uninstalling scikit-learn-1.2.2:\n",
            "      Successfully uninstalled scikit-learn-1.2.2\n",
            "Successfully installed scikit-learn-1.3.0\n",
            "Requirement already satisfied: pandas in /usr/local/lib/python3.10/dist-packages (1.5.3)\n",
            "Requirement already satisfied: python-dateutil>=2.8.1 in /usr/local/lib/python3.10/dist-packages (from pandas) (2.8.2)\n",
            "Requirement already satisfied: pytz>=2020.1 in /usr/local/lib/python3.10/dist-packages (from pandas) (2023.3)\n",
            "Requirement already satisfied: numpy>=1.21.0 in /usr/local/lib/python3.10/dist-packages (from pandas) (1.23.5)\n",
            "Requirement already satisfied: six>=1.5 in /usr/local/lib/python3.10/dist-packages (from python-dateutil>=2.8.1->pandas) (1.16.0)\n",
            "Requirement already satisfied: numpy in /usr/local/lib/python3.10/dist-packages (1.23.5)\n",
            "Requirement already satisfied: matplotlib in /usr/local/lib/python3.10/dist-packages (3.7.1)\n",
            "Requirement already satisfied: contourpy>=1.0.1 in /usr/local/lib/python3.10/dist-packages (from matplotlib) (1.1.0)\n",
            "Requirement already satisfied: cycler>=0.10 in /usr/local/lib/python3.10/dist-packages (from matplotlib) (0.11.0)\n",
            "Requirement already satisfied: fonttools>=4.22.0 in /usr/local/lib/python3.10/dist-packages (from matplotlib) (4.42.0)\n",
            "Requirement already satisfied: kiwisolver>=1.0.1 in /usr/local/lib/python3.10/dist-packages (from matplotlib) (1.4.4)\n",
            "Requirement already satisfied: numpy>=1.20 in /usr/local/lib/python3.10/dist-packages (from matplotlib) (1.23.5)\n",
            "Requirement already satisfied: packaging>=20.0 in /usr/local/lib/python3.10/dist-packages (from matplotlib) (23.1)\n",
            "Requirement already satisfied: pillow>=6.2.0 in /usr/local/lib/python3.10/dist-packages (from matplotlib) (9.4.0)\n",
            "Requirement already satisfied: pyparsing>=2.3.1 in /usr/local/lib/python3.10/dist-packages (from matplotlib) (3.1.1)\n",
            "Requirement already satisfied: python-dateutil>=2.7 in /usr/local/lib/python3.10/dist-packages (from matplotlib) (2.8.2)\n",
            "Requirement already satisfied: six>=1.5 in /usr/local/lib/python3.10/dist-packages (from python-dateutil>=2.7->matplotlib) (1.16.0)\n"
          ]
        }
      ]
    },
    {
      "cell_type": "code",
      "source": [
        "from sklearn.feature_extraction.text import TfidfVectorizer\n",
        "from sklearn.feature_selection import SelectKBest\n",
        "from sklearn.feature_selection import f_classif\n",
        "from sklearn.preprocessing import LabelEncoder\n",
        "from sklearn.neural_network import MLPClassifier\n",
        "from sklearn.metrics import accuracy_score\n",
        "from sklearn.metrics import ConfusionMatrixDisplay\n",
        "from sklearn.metrics import confusion_matrix\n",
        "from sklearn.metrics import classification_report\n",
        "from sklearn.model_selection import train_test_split\n",
        "from sklearn.model_selection import GridSearchCV\n",
        "from sklearn.svm import SVC\n",
        "from sklearn.ensemble import GradientBoostingClassifier\n",
        "from sklearn.model_selection import learning_curve\n",
        "from sklearn.model_selection import cross_val_score\n",
        "import matplotlib.pyplot as plt\n",
        "import numpy as np\n",
        "import pandas as pd"
      ],
      "metadata": {
        "id": "KMhpcq_H9ADL"
      },
      "execution_count": null,
      "outputs": []
    },
    {
      "cell_type": "markdown",
      "metadata": {
        "id": "PWG4uLsFsCOa"
      },
      "source": [
        "Initially used numpy for reading csv but it gave error at line 38 because there was a comma. So i guess it is not for reading text. therefore used pandas."
      ]
    },
    {
      "cell_type": "code",
      "execution_count": 46,
      "metadata": {
        "id": "O78Kybhgr0oY",
        "colab": {
          "base_uri": "https://localhost:8080/"
        },
        "outputId": "4a693cbc-cd54-470a-c869-225458dcf797"
      },
      "outputs": [
        {
          "output_type": "stream",
          "name": "stdout",
          "text": [
            "<bound method NDFrame.head of                                                 Summary Ambiguous Description  \\\n",
            "168         ACMUI - GET request is using incorrect URL.                    no   \n",
            "605       PAM UI does not show saved language correctly                    no   \n",
            "548   DGAMS: geographicSubAddress GET request is suc...                    no   \n",
            "65    PC-UI: Setting the Mandatory value incorrectly...                    no   \n",
            "628                     Future dated order not starting                   yes   \n",
            "...                                                 ...                   ...   \n",
            "1367  RC UI does not refresh token after logging in,...                   NaN   \n",
            "265   DRCMS-UI: 404 error in Resource Specifications...                    no   \n",
            "1425  Basit düzeyde findById yapmak istedigimizde db...                   NaN   \n",
            "493          F2251401 NAZMI HOTI  Device change failed                    yes   \n",
            "1340        PC - adding service specification 400 error                   NaN   \n",
            "\n",
            "              Classification            Classification 2  \\\n",
            "168                URL Error                Syntax Error   \n",
            "605                 UI Error                    UI Error   \n",
            "548            Control Error               Control Error   \n",
            "65             Swagger Error               Swagger Error   \n",
            "628                  UNKNOWN                  Flow Error   \n",
            "...                      ...                         ...   \n",
            "1367                     NaN        Authentication Error   \n",
            "265   Request Handling Error  Missing Information/Fields   \n",
            "1425                     NaN                    UI Error   \n",
            "493                  UNKNOWN           Integration Error   \n",
            "1340                     NaN         Data Handling Error   \n",
            "\n",
            "       Broad Classification  Merged Classification Misclassification  \\\n",
            "168             Build Error            Build Error          UI Error   \n",
            "605                UI Error               UI Error               NaN   \n",
            "548        Validation Error       Validation Error               NaN   \n",
            "65           Security Error         Security Error               NaN   \n",
            "628             Build Error            Build Error             FIXED   \n",
            "...                     ...                    ...               ...   \n",
            "1367         Security Error         Security Error               NaN   \n",
            "265        Validation Error       Validation Error               NaN   \n",
            "1425               UI Error               UI Error               NaN   \n",
            "493       Integration Error      Integration Error               NaN   \n",
            "1340  Data Management Error  Data Management Error               NaN   \n",
            "\n",
            "                                            Description   Issue key  Issue id  \\\n",
            "168   ACMUI 1.10.2 - GET request is using incorrect ...  PRND-11477     20890   \n",
            "605   (PAM UI 2.8.5)\\n\\nPAM UI could not show langua...   PRND-9333     18806   \n",
            "548   DGAMS geographicSubAddress returns 200 in case...   PRND-9424     18896   \n",
            "65    I set the characteristic Mandatory to True. Th...  PRND-11942     21336   \n",
            "628   This is the product order: \\n\\n*product order*...   PRND-9245     18724   \n",
            "...                                                 ...         ...       ...   \n",
            "1367  RC UI does not refresh token after logging in,...   PRND-5084     12076   \n",
            "265   When patching Resource Specifications Physical...  PRND-10943     20375   \n",
            "1425  curl --location --request GET 'http://localhos...   PRND-4953     14366   \n",
            "493   pod logs filtered by resource order id: 1d229f...   PRND-9871     19332   \n",
            "1340  When the development environment PC UI> specif...   PRND-5296     11334   \n",
            "\n",
            "      ... Project key Project name Project type  Project lead  \\\n",
            "168   ...        PRND      PiA RND     software  ALPAY OZTURK   \n",
            "605   ...        PRND      PiA RND     software  ALPAY OZTURK   \n",
            "548   ...        PRND      PiA RND     software  ALPAY OZTURK   \n",
            "65    ...        PRND      PiA RND     software  ALPAY OZTURK   \n",
            "628   ...        PRND      PiA RND     software  ALPAY OZTURK   \n",
            "...   ...         ...          ...          ...           ...   \n",
            "1367  ...        PRND      PiA RND     software  ALPAY OZTURK   \n",
            "265   ...        PRND      PiA RND     software  ALPAY OZTURK   \n",
            "1425  ...        PRND      PiA RND     software  ALPAY OZTURK   \n",
            "493   ...        PRND      PiA RND     software  ALPAY OZTURK   \n",
            "1340  ...        PRND      PiA RND     software  ALPAY OZTURK   \n",
            "\n",
            "               Project lead id Project description Project url  Priority  \\\n",
            "168   63354b399b32cfef93277360                 NaN         NaN    Medium   \n",
            "605   63354b399b32cfef93277360                 NaN         NaN    Medium   \n",
            "548   63354b399b32cfef93277360                 NaN         NaN       Low   \n",
            "65    63354b399b32cfef93277360                 NaN         NaN    Medium   \n",
            "628   63354b399b32cfef93277360                 NaN         NaN  Critical   \n",
            "...                        ...                 ...         ...       ...   \n",
            "1367  63354b399b32cfef93277360                 NaN         NaN  Critical   \n",
            "265   63354b399b32cfef93277360                 NaN         NaN       Low   \n",
            "1425  63354b399b32cfef93277360                 NaN         NaN      High   \n",
            "493   63354b399b32cfef93277360                 NaN         NaN      High   \n",
            "1340  63354b399b32cfef93277360                 NaN         NaN    Medium   \n",
            "\n",
            "            Resolution                       Custom field (Release Notes)  \n",
            "168               Done                                                NaN  \n",
            "605               Done                                                NaN  \n",
            "548                NaN  Invalid field name issue is fixed for sort for...  \n",
            "65                Done                                                NaN  \n",
            "628               Done  Future dated order implementations done with h...  \n",
            "...                ...                                                ...  \n",
            "1367              Done                                                NaN  \n",
            "265               Done  When we update the record the href value is co...  \n",
            "1425              Done                                                NaN  \n",
            "493                NaN                                                NaN  \n",
            "1340  Cannot Reproduce              Problem is fixed in the version 2.4.2  \n",
            "\n",
            "[288 rows x 22 columns]>\n",
            "<bound method NDFrame.head of                                                 Summary Ambiguous Description  \\\n",
            "1148  DRIMS: DELETE with no ID returns incorrect sta...                   NaN   \n",
            "677                                           rof issue                   yes   \n",
            "221   DTTMS - No Accept information check in trouble...                    no   \n",
            "113   PC-UI: Error when trying to add Channels in Of...                    no   \n",
            "845        Account is not shown or find by dacm and dcm                   yes   \n",
            "...                                                 ...                   ...   \n",
            "1095  VF ES EKS Product Offering Prices update on ch...                   NaN   \n",
            "1130       DSIMS: Client provided ID is not implemented                   NaN   \n",
            "1294                       patch is not working(update)                   NaN   \n",
            "860                   DSIMS: 500 error in GET operation                    no   \n",
            "1126  DSIMS: Wrong status code in case of unsupporte...                   NaN   \n",
            "\n",
            "                 Classification            Classification 2  \\\n",
            "1148                        NaN              Error Handling   \n",
            "677            Behavioral Error               Service Error   \n",
            "221   Missing Information Error               Control Error   \n",
            "113                   URL Error                    UI Error   \n",
            "845        Data Retrieval Error                  Data Error   \n",
            "...                         ...                         ...   \n",
            "1095                        NaN                    UI Error   \n",
            "1130                        NaN  Missing Information/Fields   \n",
            "1294                        NaN              Patching Error   \n",
            "860           Integration Error            Connection Error   \n",
            "1126                        NaN              Error Handling   \n",
            "\n",
            "       Broad Classification  Merged Classification Misclassification  \\\n",
            "1148         Security Error         Security Error               NaN   \n",
            "677            System Error           System Error       Build Error   \n",
            "221        Validation Error       Validation Error               NaN   \n",
            "113                UI Error               UI Error             FIXED   \n",
            "845   Data Management Error  Data Management Error               NaN   \n",
            "...                     ...                    ...               ...   \n",
            "1095               UI Error               UI Error               NaN   \n",
            "1130       Validation Error       Validation Error               NaN   \n",
            "1294         Patching Error         Patching Error               NaN   \n",
            "860            System Error           System Error             FIXED   \n",
            "1126         Security Error         Security Error               NaN   \n",
            "\n",
            "                                            Description   Issue key  Issue id  \\\n",
            "1148  Delete request without any ID, such as:\\n \\n D...   PRND-5886     16107   \n",
            "677   we are waiting rof\\n\\n[https://drof-api.sit1.d...   PRND-8910     18389   \n",
            "221   When there is no Accept information in the hea...  PRND-11253     20680   \n",
            "113   PC UI > Offerings > Channels > Add Channels > ...  PRND-11570     20977   \n",
            "845   \\n\\nThis customer has accounts but its not sho...   PRND-8332     12499   \n",
            "...                                                 ...         ...       ...   \n",
            "1095  Hi,\\n \\n In VF ES dev environment, I am trying...   PRND-6013     17582   \n",
            "1130  It is not possible to POST service with ID. Th...   PRND-5907     17598   \n",
            "1294  patch is not working(update) for all Different...   PRND-5479     12233   \n",
            "860   When performing service inventory GET in the R...   PRND-8312     17816   \n",
            "1126  DSIMS returns 500 in case of unsupported value...   PRND-5919     12983   \n",
            "\n",
            "      ... Project key Project name Project type  Project lead  \\\n",
            "1148  ...        PRND      PiA RND     software  ALPAY OZTURK   \n",
            "677   ...        PRND      PiA RND     software  ALPAY OZTURK   \n",
            "221   ...        PRND      PiA RND     software  ALPAY OZTURK   \n",
            "113   ...        PRND      PiA RND     software  ALPAY OZTURK   \n",
            "845   ...        PRND      PiA RND     software  ALPAY OZTURK   \n",
            "...   ...         ...          ...          ...           ...   \n",
            "1095  ...        PRND      PiA RND     software  ALPAY OZTURK   \n",
            "1130  ...        PRND      PiA RND     software  ALPAY OZTURK   \n",
            "1294  ...        PRND      PiA RND     software  ALPAY OZTURK   \n",
            "860   ...        PRND      PiA RND     software  ALPAY OZTURK   \n",
            "1126  ...        PRND      PiA RND     software  ALPAY OZTURK   \n",
            "\n",
            "               Project lead id Project description Project url  Priority  \\\n",
            "1148  63354b399b32cfef93277360                 NaN         NaN       Low   \n",
            "677   63354b399b32cfef93277360                 NaN         NaN      High   \n",
            "221   63354b399b32cfef93277360                 NaN         NaN       Low   \n",
            "113   63354b399b32cfef93277360                 NaN         NaN    Medium   \n",
            "845   63354b399b32cfef93277360                 NaN         NaN      High   \n",
            "...                        ...                 ...         ...       ...   \n",
            "1095  63354b399b32cfef93277360                 NaN         NaN    Medium   \n",
            "1130  63354b399b32cfef93277360                 NaN         NaN       Low   \n",
            "1294  63354b399b32cfef93277360                 NaN         NaN      High   \n",
            "860   63354b399b32cfef93277360                 NaN         NaN      High   \n",
            "1126  63354b399b32cfef93277360                 NaN         NaN       Low   \n",
            "\n",
            "      Resolution                       Custom field (Release Notes)  \n",
            "1148        Done    Fixed by upgrading the version of common-mongo.  \n",
            "677         Done                                                NaN  \n",
            "221          NaN  Fixed the accept header issue for createRelate...  \n",
            "113         Done                                                NaN  \n",
            "845         Done                                                NaN  \n",
            "...          ...                                                ...  \n",
            "1095        Done                                      Model updated  \n",
            "1130        Done                                                NaN  \n",
            "1294        Done                                                NaN  \n",
            "860          NaN                                                NaN  \n",
            "1126        Done                                                NaN  \n",
            "\n",
            "[1152 rows x 22 columns]>\n"
          ]
        }
      ],
      "source": [
        "# train data\n",
        "vdf = pd.read_csv(\"more-defects.csv\")\n",
        "# test data\n",
        "#tdf = pd.read_csv('CompleteDataset.csv', sep=\"|\")\n",
        "#tdf = tdf.sample(frac = 1, random_state=2).reset_index()\n",
        "#print(tdf.head)\n",
        "#Shuffling and splitting the dataset into 70% training and 30% testing\n",
        "#tdf = tdf.groupby('super').apply(lambda x: x.sample(n=250)).reset_index(drop=True)\n",
        "\n",
        "tdf, vdf = train_test_split(vdf, test_size=0.2, random_state=42, shuffle=True)\n",
        "\n",
        "#tdf = vdf.iloc[:700]\n",
        "#vdf = vdf.iloc[700:]\n",
        "\n",
        "\n",
        "\n",
        "print(vdf.head)\n",
        "print(tdf.head)\n",
        "\n",
        "# Vectorization parameters\n",
        "# Range (inclusive) of n-gram sizes for tokenizing text.\n",
        "NGRAM_RANGE = (1, 2)\n",
        "\n",
        "# Limit on the number of features. We use the top 20K features.\n",
        "TOP_K = 20000\n",
        "\n",
        "# Whether text should be split into word or character n-grams.\n",
        "# One of 'word', 'char'.\n",
        "TOKEN_MODE = 'word'\n",
        "\n",
        "# Minimum document/corpus frequency below which a token will be discarded.\n",
        "MIN_DOCUMENT_FREQUENCY = 2\n"
      ]
    },
    {
      "cell_type": "markdown",
      "metadata": {
        "id": "GfaCPT0NsQr2"
      },
      "source": [
        "Get number of samples and words per sample to compare. Then using https://developers.google.com/machine-learning/guides/text-classification/step-2-5 decide to the model."
      ]
    },
    {
      "cell_type": "code",
      "execution_count": null,
      "metadata": {
        "colab": {
          "base_uri": "https://localhost:8080/"
        },
        "id": "XKmT7aQfsPsv",
        "outputId": "44454e15-d875-41fa-e816-a0583559130f"
      },
      "outputs": [
        {
          "output_type": "execute_result",
          "data": {
            "text/plain": [
              "10.276476471207495"
            ]
          },
          "metadata": {},
          "execution_count": 81
        }
      ],
      "source": [
        "rows = len(df)\n",
        "total_words = df['summary'].apply(lambda x: len(str(x).split())).sum()\n",
        "w_per_s = total_words / rows\n",
        "w_per_s"
      ]
    },
    {
      "cell_type": "markdown",
      "metadata": {
        "id": "NcUd7e6zNtGm"
      },
      "source": [
        "Since it is less than 1500 we are going with MLP."
      ]
    },
    {
      "cell_type": "code",
      "execution_count": null,
      "metadata": {
        "id": "b38hVaoKNupk"
      },
      "outputs": [],
      "source": [
        "def ngram_vectorize(train_texts, train_labels, val_texts):\n",
        "    \"\"\"Vectorizes texts as n-gram vectors.\n",
        "\n",
        "    1 text = 1 tf-idf vector the length of vocabulary of unigrams + bigrams.\n",
        "\n",
        "    # Arguments\n",
        "        train_texts: list, training text strings.\n",
        "        train_labels: np.ndarray, training labels.\n",
        "        val_texts: list, validation text strings.\n",
        "\n",
        "    # Returns\n",
        "        x_train, x_val: vectorized training and validation texts\n",
        "    \"\"\"\n",
        "    # Create keyword arguments to pass to the 'tf-idf' vectorizer.\n",
        "    kwargs = {\n",
        "            'ngram_range': NGRAM_RANGE,  # Use 1-grams + 2-grams.\n",
        "            'dtype': 'int32',\n",
        "            'strip_accents': 'unicode',\n",
        "            'decode_error': 'replace',\n",
        "            'analyzer': TOKEN_MODE,  # Split text into word tokens.\n",
        "            'min_df': MIN_DOCUMENT_FREQUENCY,\n",
        "    }\n",
        "    vectorizer = TfidfVectorizer(**kwargs)\n",
        "\n",
        "    # Learn vocabulary from training texts and vectorize training texts.\n",
        "    x_train = vectorizer.fit_transform(train_texts)\n",
        "\n",
        "    # Vectorize validation texts.\n",
        "    x_val = vectorizer.transform(val_texts)\n",
        "\n",
        "    # Select top 'k' of the vectorized features.\n",
        "    selector = SelectKBest(f_classif, k=min(TOP_K, x_train.shape[1]))\n",
        "    selector.fit(x_train, train_labels)\n",
        "    x_train = selector.transform(x_train).astype('float32')\n",
        "    x_val = selector.transform(x_val).astype('float32')\n",
        "    return x_train, x_val"
      ]
    },
    {
      "cell_type": "markdown",
      "metadata": {
        "id": "C3J-N-tLN0E_"
      },
      "source": [
        "Berfore we fed model with data. We should tokenize. Then train with it."
      ]
    },
    {
      "cell_type": "code",
      "source": [
        "# Define train_texts, train_labels, val_texts, and val_labels earlier\n",
        "train_texts = tdf['Summary']\n",
        "train_labels = tdf['Merged Classification']\n",
        "val_texts = vdf['Summary']\n",
        "val_labels = vdf['Merged Classification']\n",
        "# Initialize a label encoder\n",
        "label_encoder = LabelEncoder()\n",
        "\n",
        "# Vectorize the texts using the function\n",
        "x_train, x_val = ngram_vectorize(train_texts, train_labels, val_texts)\n",
        "# Fit the encoder on the training labels and transform both train and validation labels\n",
        "y_train_encoded = label_encoder.fit_transform(train_labels)\n",
        "y_val_encoded = label_encoder.transform(val_labels)\n",
        "\n",
        "unique_classes = np.unique(train_labels)"
      ],
      "metadata": {
        "colab": {
          "base_uri": "https://localhost:8080/"
        },
        "id": "ou042Ryf4PD1",
        "outputId": "517d2d67-6a29-41b9-a8f2-dc46e5cb0124"
      },
      "execution_count": 55,
      "outputs": [
        {
          "output_type": "stream",
          "name": "stderr",
          "text": [
            "/usr/local/lib/python3.10/dist-packages/sklearn/feature_extraction/text.py:2065: UserWarning: Only (<class 'numpy.float64'>, <class 'numpy.float32'>, <class 'numpy.float16'>) 'dtype' should be used. int32 'dtype' will be converted to np.float64.\n",
            "  warnings.warn(\n"
          ]
        }
      ]
    },
    {
      "cell_type": "markdown",
      "source": [
        "MLP:"
      ],
      "metadata": {
        "id": "xPrPDX1C4Qvq"
      }
    },
    {
      "cell_type": "code",
      "execution_count": null,
      "metadata": {
        "id": "ThszbVS3vc8l",
        "colab": {
          "base_uri": "https://localhost:8080/",
          "height": 520
        },
        "outputId": "3d4b13f4-b33d-4201-aa35-8b6985f2c026"
      },
      "outputs": [
        {
          "output_type": "stream",
          "name": "stderr",
          "text": [
            "/usr/local/lib/python3.10/dist-packages/sklearn/neural_network/_multilayer_perceptron.py:691: ConvergenceWarning: Stochastic Optimizer: Maximum iterations (100) reached and the optimization hasn't converged yet.\n",
            "  warnings.warn(\n",
            "/usr/local/lib/python3.10/dist-packages/sklearn/neural_network/_multilayer_perceptron.py:691: ConvergenceWarning: Stochastic Optimizer: Maximum iterations (100) reached and the optimization hasn't converged yet.\n",
            "  warnings.warn(\n",
            "/usr/local/lib/python3.10/dist-packages/sklearn/neural_network/_multilayer_perceptron.py:691: ConvergenceWarning: Stochastic Optimizer: Maximum iterations (100) reached and the optimization hasn't converged yet.\n",
            "  warnings.warn(\n",
            "/usr/local/lib/python3.10/dist-packages/sklearn/neural_network/_multilayer_perceptron.py:698: UserWarning: Training interrupted by user.\n",
            "  warnings.warn(\"Training interrupted by user.\")\n",
            "/usr/local/lib/python3.10/dist-packages/sklearn/neural_network/_multilayer_perceptron.py:691: ConvergenceWarning: Stochastic Optimizer: Maximum iterations (100) reached and the optimization hasn't converged yet.\n",
            "  warnings.warn(\n"
          ]
        },
        {
          "output_type": "stream",
          "name": "stdout",
          "text": [
            "Cross-Validation Accuracies: [0.85052632 0.87157895 0.86421053 0.87368421 0.87473684]\n",
            "0.8669473684210527\n",
            "0.008996151839672213\n",
            "Training Score (Accuracy): 1.0\n"
          ]
        },
        {
          "output_type": "error",
          "ename": "NameError",
          "evalue": "ignored",
          "traceback": [
            "\u001b[0;31m---------------------------------------------------------------------------\u001b[0m",
            "\u001b[0;31mNameError\u001b[0m                                 Traceback (most recent call last)",
            "\u001b[0;32m<ipython-input-14-f861af65565a>\u001b[0m in \u001b[0;36m<cell line: 29>\u001b[0;34m()\u001b[0m\n\u001b[1;32m     27\u001b[0m \u001b[0maccuracy_mlp\u001b[0m \u001b[0;34m=\u001b[0m \u001b[0maccuracy_score\u001b[0m\u001b[0;34m(\u001b[0m\u001b[0my_val_encoded\u001b[0m\u001b[0;34m,\u001b[0m \u001b[0my_val_pred_mlp\u001b[0m\u001b[0;34m,\u001b[0m \u001b[0mnormalize\u001b[0m\u001b[0;34m=\u001b[0m\u001b[0;32mTrue\u001b[0m\u001b[0;34m)\u001b[0m\u001b[0;34m\u001b[0m\u001b[0;34m\u001b[0m\u001b[0m\n\u001b[1;32m     28\u001b[0m \u001b[0mcm\u001b[0m \u001b[0;34m=\u001b[0m \u001b[0mconfusion_matrix\u001b[0m\u001b[0;34m(\u001b[0m\u001b[0my_val_encoded\u001b[0m\u001b[0;34m,\u001b[0m \u001b[0my_val_pred_mlp\u001b[0m\u001b[0;34m)\u001b[0m\u001b[0;34m\u001b[0m\u001b[0;34m\u001b[0m\u001b[0m\n\u001b[0;32m---> 29\u001b[0;31m \u001b[0mfig\u001b[0m \u001b[0;34m=\u001b[0m \u001b[0mConfusionMatrixDisplay\u001b[0m\u001b[0;34m(\u001b[0m\u001b[0mconfusion_matrix\u001b[0m\u001b[0;34m=\u001b[0m\u001b[0mcm\u001b[0m\u001b[0;34m,\u001b[0m \u001b[0mdisplay_labels\u001b[0m\u001b[0;34m=\u001b[0m\u001b[0munique_classes\u001b[0m\u001b[0;34m)\u001b[0m\u001b[0;34m\u001b[0m\u001b[0;34m\u001b[0m\u001b[0m\n\u001b[0m\u001b[1;32m     30\u001b[0m \u001b[0mfig\u001b[0m\u001b[0;34m.\u001b[0m\u001b[0mplot\u001b[0m\u001b[0;34m(\u001b[0m\u001b[0;34m)\u001b[0m\u001b[0;34m\u001b[0m\u001b[0;34m\u001b[0m\u001b[0m\n\u001b[1;32m     31\u001b[0m \u001b[0mplt\u001b[0m\u001b[0;34m.\u001b[0m\u001b[0mshow\u001b[0m\u001b[0;34m(\u001b[0m\u001b[0;34m)\u001b[0m\u001b[0;34m\u001b[0m\u001b[0;34m\u001b[0m\u001b[0m\n",
            "\u001b[0;31mNameError\u001b[0m: name 'unique_classes' is not defined"
          ]
        }
      ],
      "source": [
        "\n",
        "# Initialize the MLP classifier\n",
        "mlp_clf = MLPClassifier(hidden_layer_sizes=(50), max_iter=100, activation='relu', solver='adam', random_state=42)\n",
        "\n",
        "\n",
        "\n",
        "cross_val_accuracies = cross_val_score(mlp_clf, x_train, y_train_encoded, cv=5, scoring='accuracy')\n",
        "\n",
        "# Compute mean and standard deviation of cross-validation accuracies\n",
        "mean_cross_val_accuracy = cross_val_accuracies.mean()\n",
        "std_cross_val_accuracy = cross_val_accuracies.std()\n",
        "print(\"Cross-Validation Accuracies:\", cross_val_accuracies)\n",
        "print(mean_cross_val_accuracy)\n",
        "print(std_cross_val_accuracy)\n",
        "\n",
        "\n",
        "# Train the model\n",
        "mlp_clf.fit(x_train, y_train_encoded)\n",
        "\n",
        "# Predict on the validation set\n",
        "y_val_pred_mlp = mlp_clf.predict(x_val)\n",
        "\n",
        "# Calculate the accuracy\n",
        "training_score = mlp_clf.score(x_train, y_train_encoded)\n",
        "print(\"Training Score (Accuracy):\", training_score)\n",
        "\n",
        "\n",
        "accuracy_mlp = accuracy_score(y_val_encoded, y_val_pred_mlp, normalize=True)\n",
        "cm = confusion_matrix(y_val_encoded, y_val_pred_mlp)\n",
        "fig = ConfusionMatrixDisplay(confusion_matrix=cm, display_labels=unique_classes)\n",
        "fig.plot()\n",
        "plt.show()\n",
        "\n",
        "print(classification_report(y_val_encoded, y_val_pred_mlp))"
      ]
    },
    {
      "cell_type": "markdown",
      "source": [],
      "metadata": {
        "id": "4aewcn9-A_UE"
      }
    },
    {
      "cell_type": "markdown",
      "source": [
        "SVM:\n",
        "Top 3\n",
        "Synthetic = 0.62\n",
        "Real = 0.82\n",
        "\n",
        "With more defects it using real data accuracy drops to 0.62"
      ],
      "metadata": {
        "id": "iE_0saEL4S8y"
      }
    },
    {
      "cell_type": "code",
      "source": [
        "svm = SVC(kernel='linear', random_state=42, probability=True)\n",
        "svm.fit(x_train, y_train_encoded)\n",
        "y_val_prob_svm = svm.predict_proba(x_val)\n",
        "\n",
        "# Get the top 3 predicted classes for each instance\n",
        "top3_preds = np.argsort(y_val_prob_svm, axis=1)[:, -3:]\n",
        "\n",
        "# Check if true label is in top 3 predictions for each instance\n",
        "top3_accuracy = np.mean([y_val_encoded[i] in top3_preds[i] for i in range(len(y_val_encoded))])\n",
        "\n",
        "cross_val_accuracies = cross_val_score(svm, x_train, y_train_encoded, cv=5, scoring='accuracy')\n",
        "\n",
        "# Compute mean and standard deviation of cross-validation accuracies\n",
        "mean_cross_val_accuracy = cross_val_accuracies.mean()\n",
        "std_cross_val_accuracy = cross_val_accuracies.std()\n",
        "\n",
        "print(\"Cross-Validation Accuracies:\", cross_val_accuracies)\n",
        "print(mean_cross_val_accuracy)\n",
        "print(std_cross_val_accuracy)\n",
        "\n",
        "print(\"Top-3 Accuracy on validation set:\", top3_accuracy)\n",
        "\n",
        "# If you still want the standard predictions and classification report:\n",
        "y_val_pred_svm = svm.predict(x_val)\n",
        "classification_rep_svm_test_new = classification_report(y_val_encoded, y_val_pred_svm, target_names=label_encoder.classes_)\n",
        "print(classification_rep_svm_test_new)\n",
        "\n",
        "cm = confusion_matrix(y_val_encoded, y_val_pred_svm)\n",
        "\n",
        "fig, ax = plt.subplots(figsize=(10, 8))\n",
        "disp = ConfusionMatrixDisplay(confusion_matrix=cm, display_labels=unique_classes)\n",
        "disp.plot(ax=ax, cmap=plt.cm.Blues)\n",
        "\n",
        "# Rotate x-axis labels\n",
        "plt.xticks(rotation=90)\n",
        "\n",
        "plt.title('Confusion Matrix')\n",
        "plt.show()\n"
      ],
      "metadata": {
        "colab": {
          "base_uri": "https://localhost:8080/",
          "height": 1000
        },
        "id": "v1t1VJ96vQ4g",
        "outputId": "96294bc6-ada4-4501-e7f8-6a76a67afb36"
      },
      "execution_count": 66,
      "outputs": [
        {
          "output_type": "stream",
          "name": "stdout",
          "text": [
            "Cross-Validation Accuracies: [0.54978355 0.53679654 0.58695652 0.55652174 0.53913043]\n",
            "0.5538377564464521\n",
            "0.018039963674605194\n",
            "Top-3 Accuracy on validation set: 0.8541666666666666\n",
            "                       precision    recall  f1-score   support\n",
            "\n",
            "    Algorithmic Error       0.00      0.00      0.00         2\n",
            "          Build Error       0.71      0.52      0.60        23\n",
            "Data Management Error       0.46      0.67      0.55        63\n",
            "    Integration Error       0.50      0.08      0.14        12\n",
            "       Patching Error       0.58      0.54      0.56        13\n",
            "    Performance Error       1.00      0.25      0.40        12\n",
            "       Security Error       0.90      0.72      0.80        39\n",
            "         System Error       0.75      0.43      0.55         7\n",
            "             UI Error       0.68      0.81      0.74        37\n",
            "     Validation Error       0.59      0.69      0.64        70\n",
            "     Verfigback Error       0.67      0.20      0.31        10\n",
            "\n",
            "             accuracy                           0.61       288\n",
            "            macro avg       0.62      0.45      0.48       288\n",
            "         weighted avg       0.64      0.61      0.60       288\n",
            "\n"
          ]
        },
        {
          "output_type": "stream",
          "name": "stderr",
          "text": [
            "/usr/local/lib/python3.10/dist-packages/sklearn/metrics/_classification.py:1469: UndefinedMetricWarning: Precision and F-score are ill-defined and being set to 0.0 in labels with no predicted samples. Use `zero_division` parameter to control this behavior.\n",
            "  _warn_prf(average, modifier, msg_start, len(result))\n",
            "/usr/local/lib/python3.10/dist-packages/sklearn/metrics/_classification.py:1469: UndefinedMetricWarning: Precision and F-score are ill-defined and being set to 0.0 in labels with no predicted samples. Use `zero_division` parameter to control this behavior.\n",
            "  _warn_prf(average, modifier, msg_start, len(result))\n",
            "/usr/local/lib/python3.10/dist-packages/sklearn/metrics/_classification.py:1469: UndefinedMetricWarning: Precision and F-score are ill-defined and being set to 0.0 in labels with no predicted samples. Use `zero_division` parameter to control this behavior.\n",
            "  _warn_prf(average, modifier, msg_start, len(result))\n"
          ]
        },
        {
          "output_type": "display_data",
          "data": {
            "text/plain": [
              "<Figure size 1000x800 with 2 Axes>"
            ],
            "image/png": "[encoded data removed]"
          },
          "metadata": {}
        }
      ]
    },
    {
      "cell_type": "markdown",
      "source": [
        "GBDT:"
      ],
      "metadata": {
        "id": "kbSxXuXK4UQa"
      }
    },
    {
      "cell_type": "code",
      "source": [
        "# Initializing and training the GBDT classifier\n",
        "gbdt_classifier = GradientBoostingClassifier(random_state=42)\n",
        "gbdt_classifier.fit(x_train, y_train_encoded)\n",
        "\n",
        "# Predicting on the test set\n",
        "y_test_pred_gbdt = gbdt_classifier.predict(x_val)\n",
        "\n",
        "# Calculating accuracy and classification report for the GBDT model\n",
        "classification_rep_gbdt_test = classification_report(y_val_encoded, y_test_pred_gbdt)\n",
        "print(classification_rep_gbdt_test)"
      ],
      "metadata": {
        "colab": {
          "base_uri": "https://localhost:8080/"
        },
        "id": "146i3NVT4Vua",
        "outputId": "cafaa681-8d09-4c07-bf29-d0ffebee866b"
      },
      "execution_count": null,
      "outputs": [
        {
          "output_type": "stream",
          "name": "stdout",
          "text": [
            "\n",
            "0.33716075156576203\n",
            "              precision    recall  f1-score   support\n",
            "\n",
            "           0       0.00      0.00      0.00        15\n",
            "           1       0.44      0.31      0.36        55\n",
            "           2       0.00      0.00      0.00         6\n",
            "           3       0.69      0.12      0.21       160\n",
            "           4       0.00      0.00      0.00         0\n",
            "           5       0.00      0.00      0.00         3\n",
            "           6       0.07      0.24      0.11        17\n",
            "           7       1.00      0.27      0.43        11\n",
            "           8       0.88      0.93      0.90        15\n",
            "           9       0.37      0.86      0.52        44\n",
            "          10       0.22      0.58      0.32        53\n",
            "          11       0.08      0.83      0.15         6\n",
            "          12       0.39      0.49      0.44        79\n",
            "          13       0.05      0.25      0.09         8\n",
            "          14       0.33      0.15      0.21        39\n",
            "          15       0.78      1.00      0.88         7\n",
            "          16       0.58      0.58      0.58       173\n",
            "          17       0.49      0.11      0.18       238\n",
            "          18       0.19      0.34      0.24        29\n",
            "\n",
            "    accuracy                           0.34       958\n",
            "   macro avg       0.35      0.37      0.30       958\n",
            "weighted avg       0.48      0.34      0.33       958\n",
            "\n"
          ]
        },
        {
          "output_type": "stream",
          "name": "stderr",
          "text": [
            "/usr/local/lib/python3.10/dist-packages/sklearn/metrics/_classification.py:1344: UndefinedMetricWarning: Precision and F-score are ill-defined and being set to 0.0 in labels with no predicted samples. Use `zero_division` parameter to control this behavior.\n",
            "  _warn_prf(average, modifier, msg_start, len(result))\n",
            "/usr/local/lib/python3.10/dist-packages/sklearn/metrics/_classification.py:1344: UndefinedMetricWarning: Recall and F-score are ill-defined and being set to 0.0 in labels with no true samples. Use `zero_division` parameter to control this behavior.\n",
            "  _warn_prf(average, modifier, msg_start, len(result))\n",
            "/usr/local/lib/python3.10/dist-packages/sklearn/metrics/_classification.py:1344: UndefinedMetricWarning: Precision and F-score are ill-defined and being set to 0.0 in labels with no predicted samples. Use `zero_division` parameter to control this behavior.\n",
            "  _warn_prf(average, modifier, msg_start, len(result))\n",
            "/usr/local/lib/python3.10/dist-packages/sklearn/metrics/_classification.py:1344: UndefinedMetricWarning: Recall and F-score are ill-defined and being set to 0.0 in labels with no true samples. Use `zero_division` parameter to control this behavior.\n",
            "  _warn_prf(average, modifier, msg_start, len(result))\n",
            "/usr/local/lib/python3.10/dist-packages/sklearn/metrics/_classification.py:1344: UndefinedMetricWarning: Precision and F-score are ill-defined and being set to 0.0 in labels with no predicted samples. Use `zero_division` parameter to control this behavior.\n",
            "  _warn_prf(average, modifier, msg_start, len(result))\n",
            "/usr/local/lib/python3.10/dist-packages/sklearn/metrics/_classification.py:1344: UndefinedMetricWarning: Recall and F-score are ill-defined and being set to 0.0 in labels with no true samples. Use `zero_division` parameter to control this behavior.\n",
            "  _warn_prf(average, modifier, msg_start, len(result))\n"
          ]
        }
      ]
    }
  ],
  "metadata": {
    "colab": {
      "provenance": [],
      "mount_file_id": "1UWSvx_NE3wJDYrvBZgQXj37td19FmcFI",
      "authorship_tag": "ABX9TyNxjXli5Xfy2JEJGNZcZ9vp",
      "include_colab_link": true
    },
    "kernelspec": {
      "display_name": "Python 3",
      "name": "python3"
    },
    "language_info": {
      "name": "python"
    }
  },
  "nbformat": 4,
  "nbformat_minor": 0
}