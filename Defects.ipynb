{
  "cells": [
    {
      "cell_type": "markdown",
      "metadata": {
        "id": "view-in-github",
        "colab_type": "text"
      },
      "source": [
        "<a href=\"https://colab.research.google.com/github/mcany-pia/defect-categorization/blob/main/Defects.ipynb\" target=\"_parent\"><img src=\"https://colab.research.google.com/assets/colab-badge.svg\" alt=\"Open In Colab\"/></a>"
      ]
    },
    {
      "cell_type": "code",
      "source": [
        "!pip install -U scikit-learn\n",
        "!pip install pandas\n",
        "!pip install numpy\n",
        "!pip install matplotlib"
      ],
      "metadata": {
        "id": "k8zX8ugi70_S",
        "colab": {
          "base_uri": "https://localhost:8080/"
        },
        "outputId": "738f4954-ef8c-4b38-e302-d34b2668aa0e"
      },
      "execution_count": null,
      "outputs": [
        {
          "output_type": "stream",
          "name": "stdout",
          "text": [
            "Requirement already satisfied: scikit-learn in /usr/local/lib/python3.10/dist-packages (1.2.2)\n",
            "Collecting scikit-learn\n",
            "  Downloading scikit_learn-1.3.0-cp310-cp310-manylinux_2_17_x86_64.manylinux2014_x86_64.whl (10.8 MB)\n",
            "\u001b[2K     \u001b[90m━━━━━━━━━━━━━━━━━━━━━━━━━━━━━━━━━━━━━━━━\u001b[0m \u001b[32m10.8/10.8 MB\u001b[0m \u001b[31m22.6 MB/s\u001b[0m eta \u001b[36m0:00:00\u001b[0m\n",
            "\u001b[?25hRequirement already satisfied: numpy>=1.17.3 in /usr/local/lib/python3.10/dist-packages (from scikit-learn) (1.23.5)\n",
            "Requirement already satisfied: scipy>=1.5.0 in /usr/local/lib/python3.10/dist-packages (from scikit-learn) (1.10.1)\n",
            "Requirement already satisfied: joblib>=1.1.1 in /usr/local/lib/python3.10/dist-packages (from scikit-learn) (1.3.2)\n",
            "Requirement already satisfied: threadpoolctl>=2.0.0 in /usr/local/lib/python3.10/dist-packages (from scikit-learn) (3.2.0)\n",
            "Installing collected packages: scikit-learn\n",
            "  Attempting uninstall: scikit-learn\n",
            "    Found existing installation: scikit-learn 1.2.2\n",
            "    Uninstalling scikit-learn-1.2.2:\n",
            "      Successfully uninstalled scikit-learn-1.2.2\n",
            "Successfully installed scikit-learn-1.3.0\n",
            "Requirement already satisfied: pandas in /usr/local/lib/python3.10/dist-packages (1.5.3)\n",
            "Requirement already satisfied: python-dateutil>=2.8.1 in /usr/local/lib/python3.10/dist-packages (from pandas) (2.8.2)\n",
            "Requirement already satisfied: pytz>=2020.1 in /usr/local/lib/python3.10/dist-packages (from pandas) (2023.3)\n",
            "Requirement already satisfied: numpy>=1.21.0 in /usr/local/lib/python3.10/dist-packages (from pandas) (1.23.5)\n",
            "Requirement already satisfied: six>=1.5 in /usr/local/lib/python3.10/dist-packages (from python-dateutil>=2.8.1->pandas) (1.16.0)\n",
            "Requirement already satisfied: numpy in /usr/local/lib/python3.10/dist-packages (1.23.5)\n",
            "Requirement already satisfied: matplotlib in /usr/local/lib/python3.10/dist-packages (3.7.1)\n",
            "Requirement already satisfied: contourpy>=1.0.1 in /usr/local/lib/python3.10/dist-packages (from matplotlib) (1.1.0)\n",
            "Requirement already satisfied: cycler>=0.10 in /usr/local/lib/python3.10/dist-packages (from matplotlib) (0.11.0)\n",
            "Requirement already satisfied: fonttools>=4.22.0 in /usr/local/lib/python3.10/dist-packages (from matplotlib) (4.42.0)\n",
            "Requirement already satisfied: kiwisolver>=1.0.1 in /usr/local/lib/python3.10/dist-packages (from matplotlib) (1.4.4)\n",
            "Requirement already satisfied: numpy>=1.20 in /usr/local/lib/python3.10/dist-packages (from matplotlib) (1.23.5)\n",
            "Requirement already satisfied: packaging>=20.0 in /usr/local/lib/python3.10/dist-packages (from matplotlib) (23.1)\n",
            "Requirement already satisfied: pillow>=6.2.0 in /usr/local/lib/python3.10/dist-packages (from matplotlib) (9.4.0)\n",
            "Requirement already satisfied: pyparsing>=2.3.1 in /usr/local/lib/python3.10/dist-packages (from matplotlib) (3.1.1)\n",
            "Requirement already satisfied: python-dateutil>=2.7 in /usr/local/lib/python3.10/dist-packages (from matplotlib) (2.8.2)\n",
            "Requirement already satisfied: six>=1.5 in /usr/local/lib/python3.10/dist-packages (from python-dateutil>=2.7->matplotlib) (1.16.0)\n"
          ]
        }
      ]
    },
    {
      "cell_type": "code",
      "source": [
        "from sklearn.feature_extraction.text import TfidfVectorizer\n",
        "from sklearn.feature_selection import SelectKBest\n",
        "from sklearn.feature_selection import f_classif\n",
        "from sklearn.preprocessing import LabelEncoder\n",
        "from sklearn.neural_network import MLPClassifier\n",
        "from sklearn.metrics import accuracy_score\n",
        "from sklearn.metrics import ConfusionMatrixDisplay\n",
        "from sklearn.metrics import confusion_matrix\n",
        "from sklearn.metrics import classification_report\n",
        "from sklearn.model_selection import train_test_split\n",
        "from sklearn.model_selection import GridSearchCV\n",
        "from sklearn.svm import SVC\n",
        "from sklearn.ensemble import GradientBoostingClassifier\n",
        "from sklearn.model_selection import learning_curve\n",
        "from sklearn.model_selection import cross_val_score\n",
        "import matplotlib.pyplot as plt\n",
        "import numpy as np\n",
        "import pandas as pd"
      ],
      "metadata": {
        "id": "KMhpcq_H9ADL"
      },
      "execution_count": 1,
      "outputs": []
    },
    {
      "cell_type": "markdown",
      "metadata": {
        "id": "PWG4uLsFsCOa"
      },
      "source": [
        "Initially used numpy for reading csv but it gave error at line 38 because there was a comma. So i guess it is not for reading text. therefore used pandas."
      ]
    },
    {
      "cell_type": "code",
      "execution_count": 6,
      "metadata": {
        "id": "O78Kybhgr0oY",
        "colab": {
          "base_uri": "https://localhost:8080/"
        },
        "outputId": "274740c0-f5cd-4166-ad01-134cea4e20be"
      },
      "outputs": [
        {
          "output_type": "stream",
          "name": "stdout",
          "text": [
            "Validation Error         503\n",
            "UI Error                 243\n",
            "Data Management Error    242\n",
            "Build Error               97\n",
            "Security Error            96\n",
            "Patching Error            88\n",
            "System Error              73\n",
            "Verfigback Error          71\n",
            "Integration Error         55\n",
            "Performance Error         43\n",
            "Algorithmic Error         35\n",
            "Name: Merged Classification, dtype: int64\n"
          ]
        }
      ],
      "source": [
        "\n",
        "\n",
        "# train data\n",
        "vdf = pd.read_csv(\"more-defects.csv\")\n",
        "# test data\n",
        "#tdf = pd.read_csv('CompleteDatasetCleanedYarkin.csv', sep=\"|\")\n",
        "\n",
        "\n",
        "\n",
        "'''\n",
        "vdf_labels = vdf['Merged Classification'].unique()\n",
        "tdf_labels = tdf['super'].unique()\n",
        "\n",
        "# Find labels in tdf that are not in vdf\n",
        "labels_to_remove = set(tdf_labels) - set(vdf_labels)\n",
        "\n",
        "# Remove these labels from tdf\n",
        "tdf = tdf[~tdf['super'].isin(labels_to_remove)]\n",
        "\n",
        "\n",
        "tdf = tdf.sample(frac = 1, random_state=2).reset_index()\n",
        "#print(tdf.head)\n",
        "#Shuffling and splitting the dataset into 70% training and 30% testing\n",
        "\n",
        "\n",
        "#supplyDf = pd.read_csv(\"CompleteDatasetCleanedYarkin.csv\", sep=\"|\");\n",
        "'''\n",
        "\n",
        "\n",
        "size_of_group = 250\n",
        "\n",
        "\n",
        "#vdf = vdf.groupby('Merged Classification').apply(lambda x: x.sample(n=min(len(x), size_of_group))).reset_index(drop=True)\n",
        "\n",
        "train_group_sizes = vdf['Merged Classification'].value_counts()\n",
        "print(train_group_sizes)\n",
        "\n",
        "tdf, vdf = train_test_split(vdf, test_size=0.2, random_state=42, shuffle=True)\n",
        "\n",
        "\n",
        "#tdf = vdf.iloc[:700]\n",
        "#vdf = vdf.iloc[700:]\n",
        "\n",
        "\n",
        "\n",
        "\n",
        "\n",
        "\n",
        "# Vectorization parameters\n",
        "# Range (inclusive) of n-gram sizes for tokenizing text.\n",
        "NGRAM_RANGE = (1, 2)\n",
        "\n",
        "# Limit on the number of features. We use the top 20K features.\n",
        "TOP_K = 20000\n",
        "\n",
        "# Whether text should be split into word or character n-grams.\n",
        "# One of 'word', 'char'.\n",
        "TOKEN_MODE = 'word'\n",
        "\n",
        "# Minimum document/corpus frequency below which a token will be discarded.\n",
        "MIN_DOCUMENT_FREQUENCY = 2\n"
      ]
    },
    {
      "cell_type": "markdown",
      "metadata": {
        "id": "GfaCPT0NsQr2"
      },
      "source": [
        "Get number of samples and words per sample to compare. Then using https://developers.google.com/machine-learning/guides/text-classification/step-2-5 decide to the model."
      ]
    },
    {
      "cell_type": "code",
      "execution_count": null,
      "metadata": {
        "colab": {
          "base_uri": "https://localhost:8080/"
        },
        "id": "XKmT7aQfsPsv",
        "outputId": "44454e15-d875-41fa-e816-a0583559130f"
      },
      "outputs": [
        {
          "output_type": "execute_result",
          "data": {
            "text/plain": [
              "10.276476471207495"
            ]
          },
          "metadata": {},
          "execution_count": 81
        }
      ],
      "source": [
        "rows = len(df)\n",
        "total_words = df['summary'].apply(lambda x: len(str(x).split())).sum()\n",
        "w_per_s = total_words / rows\n",
        "w_per_s"
      ]
    },
    {
      "cell_type": "markdown",
      "metadata": {
        "id": "NcUd7e6zNtGm"
      },
      "source": [
        "Since it is less than 1500 we are going with MLP."
      ]
    },
    {
      "cell_type": "code",
      "execution_count": 3,
      "metadata": {
        "id": "b38hVaoKNupk"
      },
      "outputs": [],
      "source": [
        "def ngram_vectorize(train_texts, train_labels, val_texts):\n",
        "    \"\"\"Vectorizes texts as n-gram vectors.\n",
        "\n",
        "    1 text = 1 tf-idf vector the length of vocabulary of unigrams + bigrams.\n",
        "\n",
        "    # Arguments\n",
        "        train_texts: list, training text strings.\n",
        "        train_labels: np.ndarray, training labels.\n",
        "        val_texts: list, validation text strings.\n",
        "\n",
        "    # Returns\n",
        "        x_train, x_val: vectorized training and validation texts\n",
        "    \"\"\"\n",
        "    # Create keyword arguments to pass to the 'tf-idf' vectorizer.\n",
        "    kwargs = {\n",
        "            'ngram_range': NGRAM_RANGE,  # Use 1-grams + 2-grams.\n",
        "            'dtype': 'int32',\n",
        "            'strip_accents': 'unicode',\n",
        "            'decode_error': 'replace',\n",
        "            'analyzer': TOKEN_MODE,  # Split text into word tokens.\n",
        "            'min_df': MIN_DOCUMENT_FREQUENCY,\n",
        "    }\n",
        "    vectorizer = TfidfVectorizer(**kwargs)\n",
        "\n",
        "    # Learn vocabulary from training texts and vectorize training texts.\n",
        "    x_train = vectorizer.fit_transform(train_texts)\n",
        "\n",
        "    # Vectorize validation texts.\n",
        "    x_val = vectorizer.transform(val_texts)\n",
        "\n",
        "    # Select top 'k' of the vectorized features.\n",
        "    selector = SelectKBest(f_classif, k=min(TOP_K, x_train.shape[1]))\n",
        "    selector.fit(x_train, train_labels)\n",
        "    x_train = selector.transform(x_train).astype('float32')\n",
        "    x_val = selector.transform(x_val).astype('float32')\n",
        "    return x_train, x_val"
      ]
    },
    {
      "cell_type": "markdown",
      "metadata": {
        "id": "C3J-N-tLN0E_"
      },
      "source": [
        "Berfore we fed model with data. We should tokenize. Then train with it."
      ]
    },
    {
      "cell_type": "code",
      "source": [
        "# Define train_texts, train_labels, val_texts, and val_labels earlier\n",
        "train_texts = tdf['Summary'].apply(lambda x: x.split(':', 1)[-1].strip() if ':' in x else x)\n",
        "#train_labels = tdf['Merged Classification']\n",
        "val_texts = vdf['Summary'].apply(lambda x: x.split(':', 1)[-1].strip() if ':' in x else x)\n",
        "#val_labels = vdf['Merged Classification']\n",
        "\n",
        "#replaced\n",
        "train_labels = tdf['Merged Classification'].replace(['Performance Error', 'Verfigback Error', 'Integration Error', 'Algorithmic Error', 'Build Error', 'Patching Error'], ['System Error', 'Other', 'Other', 'Other', 'Other', 'Other'])\n",
        "val_labels = vdf['Merged Classification'].replace(['Performance Error', 'Verfigback Error', 'Integration Error', 'Algorithmic Error', 'Build Error', 'Patching Error'], ['System Error', 'Other', 'Other', 'Other', 'Other', 'Other'])\n",
        "\n",
        "\n",
        "\n",
        "\n",
        "\n",
        "\n",
        "\n",
        "\n",
        "# Initialize a label encoder\n",
        "label_encoder = LabelEncoder()\n",
        "\n",
        "# Vectorize the texts using the function\n",
        "x_train, x_val = ngram_vectorize(train_texts, train_labels, val_texts)\n",
        "# Fit the encoder on the training labels and transform both train and validation labels\n",
        "y_train_encoded = label_encoder.fit_transform(train_labels)\n",
        "y_val_encoded = label_encoder.transform(val_labels)\n",
        "\n",
        "unique_classes = np.unique(train_labels)\n",
        "\n"
      ],
      "metadata": {
        "colab": {
          "base_uri": "https://localhost:8080/"
        },
        "id": "ou042Ryf4PD1",
        "outputId": "8a78c595-437e-4455-c97e-97d169b05d32"
      },
      "execution_count": 7,
      "outputs": [
        {
          "output_type": "stream",
          "name": "stderr",
          "text": [
            "/usr/local/lib/python3.10/dist-packages/sklearn/feature_extraction/text.py:2072: UserWarning: Only (<class 'numpy.float64'>, <class 'numpy.float32'>, <class 'numpy.float16'>) 'dtype' should be used. int32 'dtype' will be converted to np.float64.\n",
            "  warnings.warn(\n"
          ]
        }
      ]
    },
    {
      "cell_type": "markdown",
      "source": [],
      "metadata": {
        "id": "4aewcn9-A_UE"
      }
    },
    {
      "cell_type": "markdown",
      "source": [
        "SVM:\n",
        "Top 3\n",
        "Synthetic = 0.62\n",
        "Real = 0.82\n",
        "\n",
        "Artificial\n",
        "Patching"
      ],
      "metadata": {
        "id": "iE_0saEL4S8y"
      }
    },
    {
      "cell_type": "code",
      "source": [
        "svm = SVC(kernel='rbf', random_state=42, probability=True)\n",
        "svm.fit(x_train, y_train_encoded)\n",
        "y_val_prob_svm = svm.predict_proba(x_val)\n",
        "\n",
        "# Get the top 3 predicted classes for each instance\n",
        "top3_preds = np.argsort(y_val_prob_svm, axis=1)[:, -2:]\n",
        "\n",
        "# Check if true label is in top 3 predictions for each instance\n",
        "topn_accuracy = np.mean([y_val_encoded[i] in top3_preds[i] for i in range(len(y_val_encoded))])\n",
        "\n",
        "cross_val_accuracies = cross_val_score(svm, x_train, y_train_encoded, cv=5, scoring='accuracy')\n",
        "\n",
        "# Compute mean and standard deviation of cross-validation accuracies\n",
        "mean_cross_val_accuracy = cross_val_accuracies.mean()\n",
        "std_cross_val_accuracy = cross_val_accuracies.std()\n",
        "\n",
        "print(\"Cross-Validation Accuracies:\", cross_val_accuracies)\n",
        "print(mean_cross_val_accuracy)\n",
        "print(std_cross_val_accuracy)\n",
        "\n",
        "print(\"Top-2 Accuracy on validation set:\", topn_accuracy)\n",
        "\n",
        "# If you still want the standard predictions and classification report:\n",
        "y_val_pred_svm = svm.predict(x_val)\n",
        "classification_rep_svm_test_new = classification_report(y_val_encoded, y_val_pred_svm, target_names=label_encoder.classes_)\n",
        "print(classification_rep_svm_test_new)\n",
        "\n",
        "cm = confusion_matrix(y_val_encoded, y_val_pred_svm)\n",
        "\n",
        "fig, ax = plt.subplots(figsize=(10, 8))\n",
        "disp = ConfusionMatrixDisplay(confusion_matrix=cm, display_labels=unique_classes)\n",
        "disp.plot(ax=ax, cmap=plt.cm.Blues)\n",
        "\n",
        "# Rotate x-axis labels\n",
        "plt.xticks(rotation=90)\n",
        "\n",
        "\n",
        "\n",
        "'''\n",
        "####Hyperparameter Tuning\n",
        "plt.title('Confusion Matrix')\n",
        "plt.show()\n",
        "param_grid = {\n",
        "    'C': [0.1, 1, 10, 100],\n",
        "    'kernel': ['linear', 'rbf', 'poly', 'sigmoid'],\n",
        "    'degree': [2, 3, 4],  # Only considered when kernel is 'poly'\n",
        "    'gamma': ['scale', 'auto']\n",
        "}\n",
        "\n",
        "# Create a GridSearchCV object\n",
        "grid_search = GridSearchCV(SVC(random_state=42, probability=True), param_grid, cv=5, scoring='accuracy')\n",
        "\n",
        "# Fit the model\n",
        "grid_search.fit(x_train, y_train_encoded)\n",
        "\n",
        "# Print best parameters\n",
        "print(\"Best parameters found: \", grid_search.best_params_)\n",
        "'''\n",
        "\n"
      ],
      "metadata": {
        "colab": {
          "base_uri": "https://localhost:8080/",
          "height": 1000
        },
        "id": "v1t1VJ96vQ4g",
        "outputId": "92ff2bbc-a871-475b-883b-a658d1113d60"
      },
      "execution_count": 9,
      "outputs": [
        {
          "output_type": "stream",
          "name": "stdout",
          "text": [
            "Cross-Validation Accuracies: [0.63709677 0.62348178 0.64777328 0.60728745 0.59919028]\n",
            "0.622965913543163\n",
            "0.01803578424970616\n",
            "Top-2 Accuracy on validation set: 0.8419354838709677\n",
            "                       precision    recall  f1-score   support\n",
            "\n",
            "Data Management Error       0.72      0.27      0.39        49\n",
            "                Other       0.55      0.71      0.62        73\n",
            "       Security Error       0.93      0.64      0.76        22\n",
            "         System Error       0.75      0.36      0.49        25\n",
            "             UI Error       0.87      0.67      0.75        39\n",
            "     Validation Error       0.67      0.92      0.77       102\n",
            "\n",
            "             accuracy                           0.67       310\n",
            "            macro avg       0.75      0.59      0.63       310\n",
            "         weighted avg       0.70      0.67      0.65       310\n",
            "\n"
          ]
        },
        {
          "output_type": "execute_result",
          "data": {
            "text/plain": [
              "'\\n####Hyperparameter Tuning\\nplt.title(\\'Confusion Matrix\\')\\nplt.show()\\nparam_grid = {\\n    \\'C\\': [0.1, 1, 10, 100],\\n    \\'kernel\\': [\\'linear\\', \\'rbf\\', \\'poly\\', \\'sigmoid\\'],\\n    \\'degree\\': [2, 3, 4],  # Only considered when kernel is \\'poly\\'\\n    \\'gamma\\': [\\'scale\\', \\'auto\\']\\n}\\n\\n# Create a GridSearchCV object\\ngrid_search = GridSearchCV(SVC(random_state=42, probability=True), param_grid, cv=5, scoring=\\'accuracy\\')\\n\\n# Fit the model\\ngrid_search.fit(x_train, y_train_encoded)\\n\\n# Print best parameters\\nprint(\"Best parameters found: \", grid_search.best_params_)\\n'"
            ],
            "application/vnd.google.colaboratory.intrinsic+json": {
              "type": "string"
            }
          },
          "metadata": {},
          "execution_count": 9
        },
        {
          "output_type": "display_data",
          "data": {
            "text/plain": [
              "<Figure size 1000x800 with 2 Axes>"
            ],
            "image/png": "[encoded data removed]"
          },
          "metadata": {}
        }
      ]
    },
    {
      "cell_type": "code",
      "source": [
        "from sklearn.multiclass import OneVsRestClassifier\n",
        "# Wrap the classifier with OneVsRestClassifier\n",
        "ovr_classifier = OneVsRestClassifier(svm)\n",
        "\n",
        "# Train the classifier\n",
        "ovr_classifier.fit(x_train, y_train_encoded)\n",
        "\n",
        "# Predict on validation data\n",
        "y_val_pred = ovr_classifier.predict(x_val)\n",
        "accuracy = accuracy_score(y_val_encoded, y_val_pred)\n",
        "print(\"Accuracy:\", accuracy)"
      ],
      "metadata": {
        "colab": {
          "base_uri": "https://localhost:8080/"
        },
        "id": "CuEARJtjy3df",
        "outputId": "7b2ed156-a132-444e-9b64-462c5e531815"
      },
      "execution_count": null,
      "outputs": [
        {
          "output_type": "stream",
          "name": "stdout",
          "text": [
            "Accuracy: 0.5787037037037037\n"
          ]
        }
      ]
    },
    {
      "cell_type": "markdown",
      "source": [
        "GBDT:"
      ],
      "metadata": {
        "id": "kbSxXuXK4UQa"
      }
    },
    {
      "cell_type": "code",
      "source": [
        "# Initializing and training the GBDT classifier\n",
        "gbdt_classifier = GradientBoostingClassifier(random_state=42)\n",
        "gbdt_classifier.fit(x_train, y_train_encoded)\n",
        "\n",
        "# Predicting on the test set\n",
        "y_test_pred_gbdt = gbdt_classifier.predict(x_val)\n",
        "\n",
        "# Calculating accuracy and classification report for the GBDT model\n",
        "classification_rep_gbdt_test = classification_report(y_val_encoded, y_test_pred_gbdt)\n",
        "print(classification_rep_gbdt_test)"
      ],
      "metadata": {
        "colab": {
          "base_uri": "https://localhost:8080/"
        },
        "id": "146i3NVT4Vua",
        "outputId": "cafaa681-8d09-4c07-bf29-d0ffebee866b"
      },
      "execution_count": null,
      "outputs": [
        {
          "output_type": "stream",
          "name": "stdout",
          "text": [
            "\n",
            "0.33716075156576203\n",
            "              precision    recall  f1-score   support\n",
            "\n",
            "           0       0.00      0.00      0.00        15\n",
            "           1       0.44      0.31      0.36        55\n",
            "           2       0.00      0.00      0.00         6\n",
            "           3       0.69      0.12      0.21       160\n",
            "           4       0.00      0.00      0.00         0\n",
            "           5       0.00      0.00      0.00         3\n",
            "           6       0.07      0.24      0.11        17\n",
            "           7       1.00      0.27      0.43        11\n",
            "           8       0.88      0.93      0.90        15\n",
            "           9       0.37      0.86      0.52        44\n",
            "          10       0.22      0.58      0.32        53\n",
            "          11       0.08      0.83      0.15         6\n",
            "          12       0.39      0.49      0.44        79\n",
            "          13       0.05      0.25      0.09         8\n",
            "          14       0.33      0.15      0.21        39\n",
            "          15       0.78      1.00      0.88         7\n",
            "          16       0.58      0.58      0.58       173\n",
            "          17       0.49      0.11      0.18       238\n",
            "          18       0.19      0.34      0.24        29\n",
            "\n",
            "    accuracy                           0.34       958\n",
            "   macro avg       0.35      0.37      0.30       958\n",
            "weighted avg       0.48      0.34      0.33       958\n",
            "\n"
          ]
        },
        {
          "output_type": "stream",
          "name": "stderr",
          "text": [
            "/usr/local/lib/python3.10/dist-packages/sklearn/metrics/_classification.py:1344: UndefinedMetricWarning: Precision and F-score are ill-defined and being set to 0.0 in labels with no predicted samples. Use `zero_division` parameter to control this behavior.\n",
            "  _warn_prf(average, modifier, msg_start, len(result))\n",
            "/usr/local/lib/python3.10/dist-packages/sklearn/metrics/_classification.py:1344: UndefinedMetricWarning: Recall and F-score are ill-defined and being set to 0.0 in labels with no true samples. Use `zero_division` parameter to control this behavior.\n",
            "  _warn_prf(average, modifier, msg_start, len(result))\n",
            "/usr/local/lib/python3.10/dist-packages/sklearn/metrics/_classification.py:1344: UndefinedMetricWarning: Precision and F-score are ill-defined and being set to 0.0 in labels with no predicted samples. Use `zero_division` parameter to control this behavior.\n",
            "  _warn_prf(average, modifier, msg_start, len(result))\n",
            "/usr/local/lib/python3.10/dist-packages/sklearn/metrics/_classification.py:1344: UndefinedMetricWarning: Recall and F-score are ill-defined and being set to 0.0 in labels with no true samples. Use `zero_division` parameter to control this behavior.\n",
            "  _warn_prf(average, modifier, msg_start, len(result))\n",
            "/usr/local/lib/python3.10/dist-packages/sklearn/metrics/_classification.py:1344: UndefinedMetricWarning: Precision and F-score are ill-defined and being set to 0.0 in labels with no predicted samples. Use `zero_division` parameter to control this behavior.\n",
            "  _warn_prf(average, modifier, msg_start, len(result))\n",
            "/usr/local/lib/python3.10/dist-packages/sklearn/metrics/_classification.py:1344: UndefinedMetricWarning: Recall and F-score are ill-defined and being set to 0.0 in labels with no true samples. Use `zero_division` parameter to control this behavior.\n",
            "  _warn_prf(average, modifier, msg_start, len(result))\n"
          ]
        }
      ]
    },
    {
      "cell_type": "markdown",
      "source": [
        "MLP:"
      ],
      "metadata": {
        "id": "stk-uGHdmsS5"
      }
    },
    {
      "cell_type": "code",
      "source": [
        "\n",
        "# Initialize the MLP classifier\n",
        "mlp_clf = MLPClassifier(hidden_layer_sizes=(50), max_iter=100, activation='relu', solver='adam', random_state=42)\n",
        "\n",
        "\n",
        "\n",
        "cross_val_accuracies = cross_val_score(mlp_clf, x_train, y_train_encoded, cv=5, scoring='accuracy')\n",
        "\n",
        "# Compute mean and standard deviation of cross-validation accuracies\n",
        "mean_cross_val_accuracy = cross_val_accuracies.mean()\n",
        "std_cross_val_accuracy = cross_val_accuracies.std()\n",
        "print(\"Cross-Validation Accuracies:\", cross_val_accuracies)\n",
        "print(mean_cross_val_accuracy)\n",
        "print(std_cross_val_accuracy)\n",
        "\n",
        "\n",
        "# Train the model\n",
        "mlp_clf.fit(x_train, y_train_encoded)\n",
        "\n",
        "# Predict on the validation set\n",
        "y_val_pred_mlp = mlp_clf.predict(x_val)\n",
        "\n",
        "# Calculate the accuracy\n",
        "training_score = mlp_clf.score(x_train, y_train_encoded)\n",
        "print(\"Training Score (Accuracy):\", training_score)\n",
        "\n",
        "\n",
        "accuracy_mlp = accuracy_score(y_val_encoded, y_val_pred_mlp, normalize=True)\n",
        "cm = confusion_matrix(y_val_encoded, y_val_pred_mlp)\n",
        "fig = ConfusionMatrixDisplay(confusion_matrix=cm, display_labels=unique_classes)\n",
        "fig.plot()\n",
        "plt.show()\n",
        "\n",
        "print(classification_report(y_val_encoded, y_val_pred_mlp))"
      ],
      "metadata": {
        "id": "aykrfZRlmtaQ"
      },
      "execution_count": null,
      "outputs": []
    },
    {
      "cell_type": "code",
      "source": [
        "from sklearn.multioutput import MultiOutputClassifier\n",
        "from sklearn.neighbors import KNeighborsClassifier\n",
        "from sklearn.metrics import accuracy_score, hamming_loss\n",
        "classifier = MultiOutputClassifier(KNeighborsClassifier())\n",
        "\n",
        "# Train the classifier\n",
        "classifier.fit(x_train, y_train_encoded)\n",
        "\n",
        "# Make predictions on the test set\n",
        "y_pred = classifier.predict(x_val)\n",
        "\n",
        "# Calculate accuracy and Hamming loss\n",
        "accuracy = accuracy_score(x_val, y_pred)\n",
        "hamming_loss = hamming_loss(x_val, y_pred)\n",
        "\n",
        "print(\"Accuracy:\", accuracy)\n",
        "print(\"Hamming Loss:\", hamming_loss)"
      ],
      "metadata": {
        "colab": {
          "base_uri": "https://localhost:8080/",
          "height": 399
        },
        "id": "gFux0J07zf1_",
        "outputId": "05848da7-6237-439b-dc6d-79ddc05c0bec"
      },
      "execution_count": null,
      "outputs": [
        {
          "output_type": "error",
          "ename": "ValueError",
          "evalue": "ignored",
          "traceback": [
            "\u001b[0;31m---------------------------------------------------------------------------\u001b[0m",
            "\u001b[0;31mValueError\u001b[0m                                Traceback (most recent call last)",
            "\u001b[0;32m<ipython-input-122-c97090cadcd6>\u001b[0m in \u001b[0;36m<cell line: 7>\u001b[0;34m()\u001b[0m\n\u001b[1;32m      5\u001b[0m \u001b[0;34m\u001b[0m\u001b[0m\n\u001b[1;32m      6\u001b[0m \u001b[0;31m# Train the classifier\u001b[0m\u001b[0;34m\u001b[0m\u001b[0;34m\u001b[0m\u001b[0m\n\u001b[0;32m----> 7\u001b[0;31m \u001b[0mclassifier\u001b[0m\u001b[0;34m.\u001b[0m\u001b[0mfit\u001b[0m\u001b[0;34m(\u001b[0m\u001b[0mx_train\u001b[0m\u001b[0;34m,\u001b[0m \u001b[0my_train_encoded\u001b[0m\u001b[0;34m)\u001b[0m\u001b[0;34m\u001b[0m\u001b[0;34m\u001b[0m\u001b[0m\n\u001b[0m\u001b[1;32m      8\u001b[0m \u001b[0;34m\u001b[0m\u001b[0m\n\u001b[1;32m      9\u001b[0m \u001b[0;31m# Make predictions on the test set\u001b[0m\u001b[0;34m\u001b[0m\u001b[0;34m\u001b[0m\u001b[0m\n",
            "\u001b[0;32m/usr/local/lib/python3.10/dist-packages/sklearn/multioutput.py\u001b[0m in \u001b[0;36mfit\u001b[0;34m(self, X, Y, sample_weight, **fit_params)\u001b[0m\n\u001b[1;32m    536\u001b[0m             \u001b[0mReturns\u001b[0m \u001b[0ma\u001b[0m \u001b[0mfitted\u001b[0m \u001b[0minstance\u001b[0m\u001b[0;34m.\u001b[0m\u001b[0;34m\u001b[0m\u001b[0;34m\u001b[0m\u001b[0m\n\u001b[1;32m    537\u001b[0m         \"\"\"\n\u001b[0;32m--> 538\u001b[0;31m         \u001b[0msuper\u001b[0m\u001b[0;34m(\u001b[0m\u001b[0;34m)\u001b[0m\u001b[0;34m.\u001b[0m\u001b[0mfit\u001b[0m\u001b[0;34m(\u001b[0m\u001b[0mX\u001b[0m\u001b[0;34m,\u001b[0m \u001b[0mY\u001b[0m\u001b[0;34m,\u001b[0m \u001b[0msample_weight\u001b[0m\u001b[0;34m=\u001b[0m\u001b[0msample_weight\u001b[0m\u001b[0;34m,\u001b[0m \u001b[0;34m**\u001b[0m\u001b[0mfit_params\u001b[0m\u001b[0;34m)\u001b[0m\u001b[0;34m\u001b[0m\u001b[0;34m\u001b[0m\u001b[0m\n\u001b[0m\u001b[1;32m    539\u001b[0m         \u001b[0mself\u001b[0m\u001b[0;34m.\u001b[0m\u001b[0mclasses_\u001b[0m \u001b[0;34m=\u001b[0m \u001b[0;34m[\u001b[0m\u001b[0mestimator\u001b[0m\u001b[0;34m.\u001b[0m\u001b[0mclasses_\u001b[0m \u001b[0;32mfor\u001b[0m \u001b[0mestimator\u001b[0m \u001b[0;32min\u001b[0m \u001b[0mself\u001b[0m\u001b[0;34m.\u001b[0m\u001b[0mestimators_\u001b[0m\u001b[0;34m]\u001b[0m\u001b[0;34m\u001b[0m\u001b[0;34m\u001b[0m\u001b[0m\n\u001b[1;32m    540\u001b[0m         \u001b[0;32mreturn\u001b[0m \u001b[0mself\u001b[0m\u001b[0;34m\u001b[0m\u001b[0;34m\u001b[0m\u001b[0m\n",
            "\u001b[0;32m/usr/local/lib/python3.10/dist-packages/sklearn/base.py\u001b[0m in \u001b[0;36mwrapper\u001b[0;34m(estimator, *args, **kwargs)\u001b[0m\n\u001b[1;32m   1149\u001b[0m                 )\n\u001b[1;32m   1150\u001b[0m             ):\n\u001b[0;32m-> 1151\u001b[0;31m                 \u001b[0;32mreturn\u001b[0m \u001b[0mfit_method\u001b[0m\u001b[0;34m(\u001b[0m\u001b[0mestimator\u001b[0m\u001b[0;34m,\u001b[0m \u001b[0;34m*\u001b[0m\u001b[0margs\u001b[0m\u001b[0;34m,\u001b[0m \u001b[0;34m**\u001b[0m\u001b[0mkwargs\u001b[0m\u001b[0;34m)\u001b[0m\u001b[0;34m\u001b[0m\u001b[0;34m\u001b[0m\u001b[0m\n\u001b[0m\u001b[1;32m   1152\u001b[0m \u001b[0;34m\u001b[0m\u001b[0m\n\u001b[1;32m   1153\u001b[0m         \u001b[0;32mreturn\u001b[0m \u001b[0mwrapper\u001b[0m\u001b[0;34m\u001b[0m\u001b[0;34m\u001b[0m\u001b[0m\n",
            "\u001b[0;32m/usr/local/lib/python3.10/dist-packages/sklearn/multioutput.py\u001b[0m in \u001b[0;36mfit\u001b[0;34m(self, X, y, sample_weight, **fit_params)\u001b[0m\n\u001b[1;32m    246\u001b[0m \u001b[0;34m\u001b[0m\u001b[0m\n\u001b[1;32m    247\u001b[0m         \u001b[0;32mif\u001b[0m \u001b[0my\u001b[0m\u001b[0;34m.\u001b[0m\u001b[0mndim\u001b[0m \u001b[0;34m==\u001b[0m \u001b[0;36m1\u001b[0m\u001b[0;34m:\u001b[0m\u001b[0;34m\u001b[0m\u001b[0;34m\u001b[0m\u001b[0m\n\u001b[0;32m--> 248\u001b[0;31m             raise ValueError(\n\u001b[0m\u001b[1;32m    249\u001b[0m                 \u001b[0;34m\"y must have at least two dimensions for \"\u001b[0m\u001b[0;34m\u001b[0m\u001b[0;34m\u001b[0m\u001b[0m\n\u001b[1;32m    250\u001b[0m                 \u001b[0;34m\"multi-output regression but has only one.\"\u001b[0m\u001b[0;34m\u001b[0m\u001b[0;34m\u001b[0m\u001b[0m\n",
            "\u001b[0;31mValueError\u001b[0m: y must have at least two dimensions for multi-output regression but has only one."
          ]
        }
      ]
    }
  ],
  "metadata": {
    "colab": {
      "provenance": [],
      "mount_file_id": "1UWSvx_NE3wJDYrvBZgQXj37td19FmcFI",
      "authorship_tag": "ABX9TyPXwXGj6T5nR1TJZcvc2HpC",
      "include_colab_link": true
    },
    "kernelspec": {
      "display_name": "Python 3",
      "name": "python3"
    },
    "language_info": {
      "name": "python"
    }
  },
  "nbformat": 4,
  "nbformat_minor": 0
}